{
 "cells": [
  {
   "cell_type": "markdown",
   "metadata": {},
   "source": [
    "1. Reverse a given number loops and equations and return true if it is the same as the original\n",
    "number."
   ]
  },
  {
   "cell_type": "code",
   "execution_count": null,
   "metadata": {},
   "outputs": [
    {
     "name": "stdout",
     "output_type": "stream",
     "text": [
      "Enter an integer number: 98\n"
     ]
    }
   ],
   "source": [
    "while True:\n",
    "    try:\n",
    "        x=int(input('Enter an integer number: '))\n",
    "        if x or x==0:\n",
    "            break\n",
    "    except:\n",
    "        print('only Numbers Are valid!!')\n",
    "\n",
    "m=float(x)\n",
    "y=0\n",
    "\n",
    "while True:\n",
    "    if m<0:\n",
    "        print(y)\n",
    "        break\n",
    "    y=(y*10)+ (m %10)\n",
    "    m=m/10\n",
    "    "
   ]
  },
  {
   "cell_type": "markdown",
   "metadata": {},
   "source": [
    "2. Return the number of times that the string “Emma” appears anywhere in the given string."
   ]
  },
  {
   "cell_type": "code",
   "execution_count": 7,
   "metadata": {},
   "outputs": [
    {
     "name": "stdout",
     "output_type": "stream",
     "text": [
      "Enter a string: Emma mahmoud 446 Emma Emma\n",
      "3\n"
     ]
    }
   ],
   "source": [
    "sr=input('Enter a string: ')\n",
    "print(sr.count('Emma'))"
   ]
  },
  {
   "cell_type": "markdown",
   "metadata": {},
   "source": [
    "3. Print the following pattern.\n",
    "12\n",
    "2\n",
    "3 3 3\n",
    "4 4 4 4\n",
    "5 5 5 5 5"
   ]
  },
  {
   "cell_type": "code",
   "execution_count": 12,
   "metadata": {},
   "outputs": [
    {
     "name": "stdout",
     "output_type": "stream",
     "text": [
      "1\n",
      "22\n",
      "333\n",
      "4444\n",
      "55555\n"
     ]
    }
   ],
   "source": [
    "for n in range(1,6,1):\n",
    "        print(str(n)*n )"
   ]
  },
  {
   "cell_type": "markdown",
   "metadata": {},
   "source": [
    "4. Given a string of odd length greater than 7, return a string made of the middle three chars of\n",
    "a given String."
   ]
  },
  {
   "cell_type": "code",
   "execution_count": 21,
   "metadata": {},
   "outputs": [
    {
     "name": "stdout",
     "output_type": "stream",
     "text": [
      "plk\n"
     ]
    }
   ],
   "source": [
    "sr='qwertyuioplkjhgfdasb'\n",
    "x= int(len(sr)/2)\n",
    "b=x-1\n",
    "d=x+2\n",
    "c=sr[b:d]\n",
    "print(c)"
   ]
  },
  {
   "cell_type": "markdown",
   "metadata": {},
   "source": [
    "5. Given 2 strings, s1 and s2, create a new string by appending s2 in the middle of s1."
   ]
  },
  {
   "cell_type": "code",
   "execution_count": 30,
   "metadata": {},
   "outputs": [
    {
     "name": "stdout",
     "output_type": "stream",
     "text": [
      "mah alqannas moud\n"
     ]
    }
   ],
   "source": [
    "s1='mahmoud'\n",
    "s2=' alqannas '\n",
    "x=int(len(s1)/2)\n",
    "s3=s1[:x]+s2+s1[x:]\n",
    "print(s3)\n"
   ]
  },
  {
   "cell_type": "markdown",
   "metadata": {},
   "source": [
    "6. Given 2 strings, s1, and s2 return a new string made of the first, middle and last char each\n",
    "input string."
   ]
  },
  {
   "cell_type": "code",
   "execution_count": 44,
   "metadata": {},
   "outputs": [
    {
     "name": "stdout",
     "output_type": "stream",
     "text": [
      "135slm\n"
     ]
    }
   ],
   "source": [
    "s1='12345'\n",
    "s2='salem'\n",
    "x1=int((len(s1)/2))\n",
    "x2=int((len(s2)/2))\n",
    "s3=s1[0]+s1[x1]+s1[len(s1)-1]+s2[0]+s2[x2]+s2[len(s2)-1]\n",
    "print(s3)"
   ]
  },
  {
   "cell_type": "markdown",
   "metadata": {},
   "source": [
    "7. arrange String characters such that lowercase letters should come first."
   ]
  },
  {
   "cell_type": "code",
   "execution_count": 45,
   "metadata": {},
   "outputs": [
    {
     "name": "stdout",
     "output_type": "stream",
     "text": [
      "['4', '5', '6', 'A', 'A', 'A', 'a', 'd', 'f', 'k', 'k', 'l', 'M', 's', 's']\n"
     ]
    }
   ],
   "source": [
    "sr='MAfklksdAA456as'\n",
    "print(sorted(sr,key = str.lower))"
   ]
  },
  {
   "cell_type": "markdown",
   "metadata": {},
   "source": [
    "8. Sort a given string alphabetically."
   ]
  },
  {
   "cell_type": "code",
   "execution_count": 47,
   "metadata": {},
   "outputs": [
    {
     "name": "stdout",
     "output_type": "stream",
     "text": [
      "[' ', 'a', 'd', 'h', 'k', 'k', 'k', 'm', 'm', 'o', 's', 's', 's', 'u']\n"
     ]
    }
   ],
   "source": [
    "st='mahmoud kkksss'\n",
    "print(sorted(st))"
   ]
  },
  {
   "cell_type": "markdown",
   "metadata": {},
   "source": [
    "9. Given a string input Count all lower case, upper case, digits, and special symbols\n",
    "Sample Input: ”My?Name!Is956Yazeed”\n",
    "Sample Output:\n",
    "Number of upper case: 4\n",
    "Number of lower case: 10\n",
    "Number of digits: 3\n",
    "Number of special symbols: 2"
   ]
  },
  {
   "cell_type": "code",
   "execution_count": 57,
   "metadata": {},
   "outputs": [
    {
     "name": "stdout",
     "output_type": "stream",
     "text": [
      " Number of upper case:  4\n",
      " Number of lower case:  10\n",
      " Number of digit:  3\n",
      " Number of special symbols:  2\n"
     ]
    }
   ],
   "source": [
    "st='My?Name!Is956Yazeed'\n",
    "upper1=0\n",
    "lower1=0\n",
    "num=0\n",
    "special=0\n",
    "for n in st:\n",
    "    b=str(n)\n",
    "  \n",
    "    if(b.isupper()):\n",
    "       upper1=upper1 +1\n",
    "    elif(b.islower()):\n",
    "        lower1=lower1+1\n",
    "    elif(b.isalnum()):\n",
    "        num=num+1\n",
    "    else:\n",
    "        special=special+1\n",
    "        \n",
    "print(' Number of upper case: ',upper1)\n",
    "print(' Number of lower case: ',lower1)    \n",
    "print(' Number of digit: ',num)\n",
    "print(' Number of special symbols: ',special)"
   ]
  },
  {
   "cell_type": "markdown",
   "metadata": {},
   "source": [
    "10. Write python program that takes a positive integer n as an input from the user and calculates the\n",
    "sum up to n."
   ]
  },
  {
   "cell_type": "code",
   "execution_count": 1,
   "metadata": {},
   "outputs": [
    {
     "name": "stdout",
     "output_type": "stream",
     "text": [
      "Enter an integer number: hjg\n",
      "only Numbers Are valid!!\n",
      "Enter an integer number: 5\n",
      "15\n"
     ]
    }
   ],
   "source": [
    "while True:\n",
    "    try:\n",
    "        x=int(input('Enter an integer number: '))\n",
    "        if x or x==0:\n",
    "            break\n",
    "    except:\n",
    "        print('only Numbers Are valid!!')\n",
    "x1=x+1\n",
    "sum1=0\n",
    "for m in range(x1):\n",
    "    sum1=sum1+m\n",
    "print(sum1)\n",
    "    \n",
    "    \n",
    "\n",
    "        \n",
    "        \n",
    "        \n",
    "   \n",
    "    "
   ]
  },
  {
   "cell_type": "markdown",
   "metadata": {},
   "source": [
    "11. Use the While or for statement to write a program that computes and displays the factorial of\n",
    "a positive integer n entered by the user."
   ]
  },
  {
   "cell_type": "code",
   "execution_count": 3,
   "metadata": {},
   "outputs": [
    {
     "name": "stdout",
     "output_type": "stream",
     "text": [
      "Enter an integer number: 5\n",
      "120\n"
     ]
    }
   ],
   "source": [
    "while True:\n",
    "    try:\n",
    "        x=int(input('Enter an integer number: '))\n",
    "        if x<0:\n",
    "            break\n",
    "        if x or x==0:\n",
    "            break\n",
    "    except:\n",
    "        print('only positive Numbers Are valid!!')\n",
    "num=1\n",
    "for n in  range(x):\n",
    "    num=num*(n+1)\n",
    "print(num)\n",
    "    \n",
    "\n"
   ]
  },
  {
   "cell_type": "markdown",
   "metadata": {},
   "source": [
    "12. Write a program that uses a while loop to display values from -5 through 5, using an increment\n",
    "of 0.5."
   ]
  },
  {
   "cell_type": "code",
   "execution_count": 3,
   "metadata": {},
   "outputs": [
    {
     "name": "stdout",
     "output_type": "stream",
     "text": [
      "-5.0\n",
      "-4.5\n",
      "-4.0\n",
      "-3.5\n",
      "-3.0\n",
      "-2.5\n",
      "-2.0\n",
      "-1.5\n",
      "-1.0\n",
      "-0.5\n",
      "0.0\n",
      "0.5\n",
      "1.0\n",
      "1.5\n",
      "2.0\n",
      "2.5\n",
      "3.0\n",
      "3.5\n",
      "4.0\n",
      "4.5\n",
      "5.0\n"
     ]
    }
   ],
   "source": [
    "n=-5.5\n",
    "\n",
    "while n<5:\n",
    "    n=n+.5\n",
    "    print(n)\n",
    "    \n",
    "    "
   ]
  },
  {
   "cell_type": "markdown",
   "metadata": {},
   "source": [
    "13. Write a c program that prints the following star pattern:\n",
    "* * * *\n",
    "* * *\n",
    "* *\n",
    "*"
   ]
  },
  {
   "cell_type": "code",
   "execution_count": 4,
   "metadata": {},
   "outputs": [
    {
     "name": "stdout",
     "output_type": "stream",
     "text": [
      "* * * * \n",
      "* * * \n",
      "* * \n",
      "* \n"
     ]
    }
   ],
   "source": [
    "for n in range(4):\n",
    "    print('* '*(4-n))"
   ]
  },
  {
   "cell_type": "markdown",
   "metadata": {},
   "source": [
    "14. Write a c program that prints the following star pattern:\n",
    "**\n",
    "*\n",
    "* * *\n",
    "* * * *\n",
    "* * * * *\n",
    "* * * *\n",
    "* * *\n",
    "* *\n",
    "*"
   ]
  },
  {
   "cell_type": "code",
   "execution_count": 1,
   "metadata": {},
   "outputs": [
    {
     "name": "stdout",
     "output_type": "stream",
     "text": [
      "\n",
      "* \n",
      "* * \n",
      "* * * \n",
      "* * * * \n",
      "* * * * * \n",
      "* * * * \n",
      "* * * \n",
      "* * \n",
      "* \n"
     ]
    }
   ],
   "source": [
    "x=6\n",
    "v=x-2\n",
    "for m in range(x):\n",
    "    print('* '*m)\n",
    "for n in range(v):\n",
    "    print('* '*(v-n))\n",
    "  \n",
    "    \n",
    "        \n",
    "    "
   ]
  },
  {
   "cell_type": "markdown",
   "metadata": {},
   "source": [
    "15. Write a c program that prints the following star pattern:\n",
    "7*\n",
    "6\n",
    "* * 5\n",
    "* * * 4\n",
    "* * * * 3"
   ]
  },
  {
   "cell_type": "code",
   "execution_count": 57,
   "metadata": {},
   "outputs": [
    {
     "name": "stdout",
     "output_type": "stream",
     "text": [
      " 7\n",
      "* 6\n",
      "** 5\n",
      "*** 4\n",
      "**** 3\n"
     ]
    }
   ],
   "source": [
    "x=8\n",
    "for b in range(5):\n",
    "    x=x-1\n",
    "    print('*'*(7-x), x)\n",
    "    "
   ]
  },
  {
   "cell_type": "markdown",
   "metadata": {},
   "source": [
    "16. Write a c program that prints the following star pattern:\n",
    "        "
   ]
  },
  {
   "cell_type": "code",
   "execution_count": 70,
   "metadata": {},
   "outputs": [
    {
     "name": "stdout",
     "output_type": "stream",
     "text": [
      "       \n",
      "      * \n",
      "     * * \n",
      "    * * * \n",
      "   * * * * \n",
      "  * * * * * \n"
     ]
    }
   ],
   "source": [
    "for n in range(6):\n",
    "    print(' '*(6-n),'* '*(n))\n"
   ]
  },
  {
   "cell_type": "markdown",
   "metadata": {},
   "source": [
    "17. Write a python program that prints the following star pattern:"
   ]
  },
  {
   "cell_type": "code",
   "execution_count": 74,
   "metadata": {},
   "outputs": [
    {
     "name": "stdout",
     "output_type": "stream",
     "text": [
      " * * * * * \n",
      "  * * * * \n",
      "   * * * \n",
      "    * * \n",
      "     * \n"
     ]
    }
   ],
   "source": [
    "for n in range(5):\n",
    "    print(' '*(n),'* '*(5-n))"
   ]
  },
  {
   "cell_type": "markdown",
   "metadata": {},
   "source": [
    "18. Write a python program that prints the following star pattern:"
   ]
  },
  {
   "cell_type": "code",
   "execution_count": 79,
   "metadata": {},
   "outputs": [
    {
     "name": "stdout",
     "output_type": "stream",
     "text": [
      "      \n",
      "     * \n",
      "    * * \n",
      "   * * * \n",
      "  * * * * \n",
      " * * * * * \n",
      "  * * * * \n",
      "   * * * \n",
      "    * * \n",
      "     * \n"
     ]
    }
   ],
   "source": [
    "for n in range(5):\n",
    "    print(' '*(5-n),'* '*(n))\n",
    "for n in range(5):\n",
    "    print(' '*(n),'* '*(5-n))"
   ]
  },
  {
   "cell_type": "markdown",
   "metadata": {},
   "source": [
    "19. Write programs that implement the following equations:\n",
    "    "
   ]
  },
  {
   "cell_type": "code",
   "execution_count": 2,
   "metadata": {},
   "outputs": [
    {
     "name": "stdout",
     "output_type": "stream",
     "text": [
      "result of eqation number 1 is:  328350\n",
      "result of eqation number 2 is:  23810806\n"
     ]
    }
   ],
   "source": [
    "m=100\n",
    "d=94\n",
    "n=0\n",
    "n1=6\n",
    "for s in range(m):\n",
    "    n =n + (s**2)\n",
    "eq1=n\n",
    "for b in range(6,101):\n",
    "    n1 =n1 +(b**2)*(b-5)\n",
    "eq2=n1\n",
    "print('result of eqation number 1 is: ', eq1)\n",
    "print('result of eqation number 2 is: ', eq2)"
   ]
  },
  {
   "cell_type": "markdown",
   "metadata": {},
   "source": [
    "20. Write a Python program to print Fibonacci series up to 10th term."
   ]
  },
  {
   "cell_type": "code",
   "execution_count": 11,
   "metadata": {},
   "outputs": [
    {
     "name": "stdout",
     "output_type": "stream",
     "text": [
      "Enter an integer number: 9\n",
      "Fibonacci of 9 = 21\n"
     ]
    }
   ],
   "source": [
    "while True:\n",
    "    try:\n",
    "        x=int(input('Enter an integer number: '))\n",
    "        if x or x > 0:\n",
    "            break\n",
    "    except:\n",
    "        print('Enter a valid  positive number: ')\n",
    "        \n",
    "if x ==0:\n",
    "    print('Fibonacci of 1 = 1')\n",
    "elif x== 1:\n",
    "     print('Fibonacci of 1 = 1')\n",
    "else:\n",
    "    a=0\n",
    "    b=1\n",
    "    for n in range(2,x):\n",
    "        c=a+b\n",
    "        a=b\n",
    "        b=c\n",
    "    f=b\n",
    "\n",
    "    print(\"Fibonacci of {} =\".format(x) , f)\n",
    "    "
   ]
  },
  {
   "cell_type": "markdown",
   "metadata": {},
   "source": [
    "21. Write a Python program to print GCD between any two given numbers."
   ]
  },
  {
   "cell_type": "code",
   "execution_count": 15,
   "metadata": {},
   "outputs": [
    {
     "name": "stdout",
     "output_type": "stream",
     "text": [
      "20\n"
     ]
    }
   ],
   "source": [
    "import math\n",
    "x= 40\n",
    "v=60\n",
    "print(math.gcd(x,v))"
   ]
  },
  {
   "cell_type": "markdown",
   "metadata": {},
   "source": [
    "22. Write a Python program to print LCM between any two given numbers."
   ]
  },
  {
   "cell_type": "code",
   "execution_count": 3,
   "metadata": {},
   "outputs": [
    {
     "name": "stdout",
     "output_type": "stream",
     "text": [
      "Enter an integer x: 1\n",
      "Enter an integer number: 1\n",
      "LCM between x and y is:  1\n"
     ]
    }
   ],
   "source": [
    "while True:\n",
    "    try:\n",
    "        x=int(input('Enter an integer x: '))\n",
    "        if x or x==0:\n",
    "            break\n",
    "    except:\n",
    "        print('only Numbers Are valid!!')\n",
    "        \n",
    "while True:\n",
    "    try:\n",
    "        y=int(input('Enter an integer number: '))\n",
    "        if x or y==0:\n",
    "            break\n",
    "    except:\n",
    "        print('only Numbers Are valid!!')\n",
    "  \n",
    "def lcm(x,y):\n",
    "    \n",
    "\n",
    "    if x>y:\n",
    "        greater=x\n",
    "    elif y<=x:\n",
    "        greater=y\n",
    "\n",
    "    while(True):\n",
    "        \n",
    "        if((greater % x == 0) and (greater % y ==0)):\n",
    "            lcm =greater\n",
    "            break\n",
    "        greater+=1\n",
    "    return lcm    \n",
    "\n",
    "print('LCM between x and y is: ',lcm(x,y))"
   ]
  },
  {
   "cell_type": "markdown",
   "metadata": {},
   "source": [
    "23. Write a Python program to find the sum of all natural odd numbers between 1 and 100."
   ]
  },
  {
   "cell_type": "code",
   "execution_count": 6,
   "metadata": {},
   "outputs": [
    {
     "name": "stdout",
     "output_type": "stream",
     "text": [
      "2500\n"
     ]
    }
   ],
   "source": [
    "sum1=0\n",
    "for n in range(101):\n",
    "    if n%2!=0:\n",
    "        sum1=sum1+n\n",
    "print(sum1)\n",
    "        "
   ]
  },
  {
   "cell_type": "markdown",
   "metadata": {},
   "source": [
    "###### 24. Write a Python program to find the sum of all natural prime numbers between 1 and 100."
   ]
  },
  {
   "cell_type": "code",
   "execution_count": 28,
   "metadata": {},
   "outputs": [
    {
     "name": "stdout",
     "output_type": "stream",
     "text": [
      "1060\n"
     ]
    }
   ],
   "source": [
    "prime=[True]*101\n",
    "p=2\n",
    "while p*p <=100:\n",
    "    if prime[p] == True:\n",
    "        i =p*2\n",
    "        #print(prime)\n",
    "        while i <=n :\n",
    "            prime[i]= False\n",
    "            i+=p\n",
    "            #print(prime)\n",
    "    p+=1    \n",
    "sum = 0\n",
    "for s in range(2,101):\n",
    "    if (prime[s]):\n",
    "        sum+=s\n",
    "print(sum)\n",
    "        \n"
   ]
  },
  {
   "cell_type": "markdown",
   "metadata": {},
   "source": [
    "25. Write a Python program to find the product of all natural even numbers between 1 and 100."
   ]
  },
  {
   "cell_type": "code",
   "execution_count": 29,
   "metadata": {},
   "outputs": [
    {
     "name": "stdout",
     "output_type": "stream",
     "text": [
      "2550\n"
     ]
    }
   ],
   "source": [
    "sum1=0\n",
    "for n in range(101):\n",
    "    if n%2==0:\n",
    "        sum1=sum1+n\n",
    "print(sum1)\n",
    "        "
   ]
  },
  {
   "cell_type": "markdown",
   "metadata": {},
   "source": [
    "26. Write a Python program that prints the multiplication tables of all numbers between 0 and 9."
   ]
  },
  {
   "cell_type": "code",
   "execution_count": 32,
   "metadata": {},
   "outputs": [
    {
     "name": "stdout",
     "output_type": "stream",
     "text": [
      "0 * 0 =   0\n",
      "0 * 1 =   0\n",
      "0 * 2 =   0\n",
      "0 * 3 =   0\n",
      "0 * 4 =   0\n",
      "0 * 5 =   0\n",
      "0 * 6 =   0\n",
      "0 * 7 =   0\n",
      "0 * 8 =   0\n",
      "0 * 9 =   0\n",
      "1 * 0 =   0\n",
      "1 * 1 =   1\n",
      "1 * 2 =   2\n",
      "1 * 3 =   3\n",
      "1 * 4 =   4\n",
      "1 * 5 =   5\n",
      "1 * 6 =   6\n",
      "1 * 7 =   7\n",
      "1 * 8 =   8\n",
      "1 * 9 =   9\n",
      "2 * 0 =   0\n",
      "2 * 1 =   2\n",
      "2 * 2 =   4\n",
      "2 * 3 =   6\n",
      "2 * 4 =   8\n",
      "2 * 5 =   10\n",
      "2 * 6 =   12\n",
      "2 * 7 =   14\n",
      "2 * 8 =   16\n",
      "2 * 9 =   18\n",
      "3 * 0 =   0\n",
      "3 * 1 =   3\n",
      "3 * 2 =   6\n",
      "3 * 3 =   9\n",
      "3 * 4 =   12\n",
      "3 * 5 =   15\n",
      "3 * 6 =   18\n",
      "3 * 7 =   21\n",
      "3 * 8 =   24\n",
      "3 * 9 =   27\n",
      "4 * 0 =   0\n",
      "4 * 1 =   4\n",
      "4 * 2 =   8\n",
      "4 * 3 =   12\n",
      "4 * 4 =   16\n",
      "4 * 5 =   20\n",
      "4 * 6 =   24\n",
      "4 * 7 =   28\n",
      "4 * 8 =   32\n",
      "4 * 9 =   36\n",
      "5 * 0 =   0\n",
      "5 * 1 =   5\n",
      "5 * 2 =   10\n",
      "5 * 3 =   15\n",
      "5 * 4 =   20\n",
      "5 * 5 =   25\n",
      "5 * 6 =   30\n",
      "5 * 7 =   35\n",
      "5 * 8 =   40\n",
      "5 * 9 =   45\n",
      "6 * 0 =   0\n",
      "6 * 1 =   6\n",
      "6 * 2 =   12\n",
      "6 * 3 =   18\n",
      "6 * 4 =   24\n",
      "6 * 5 =   30\n",
      "6 * 6 =   36\n",
      "6 * 7 =   42\n",
      "6 * 8 =   48\n",
      "6 * 9 =   54\n",
      "7 * 0 =   0\n",
      "7 * 1 =   7\n",
      "7 * 2 =   14\n",
      "7 * 3 =   21\n",
      "7 * 4 =   28\n",
      "7 * 5 =   35\n",
      "7 * 6 =   42\n",
      "7 * 7 =   49\n",
      "7 * 8 =   56\n",
      "7 * 9 =   63\n",
      "8 * 0 =   0\n",
      "8 * 1 =   8\n",
      "8 * 2 =   16\n",
      "8 * 3 =   24\n",
      "8 * 4 =   32\n",
      "8 * 5 =   40\n",
      "8 * 6 =   48\n",
      "8 * 7 =   56\n",
      "8 * 8 =   64\n",
      "8 * 9 =   72\n",
      "9 * 0 =   0\n",
      "9 * 1 =   9\n",
      "9 * 2 =   18\n",
      "9 * 3 =   27\n",
      "9 * 4 =   36\n",
      "9 * 5 =   45\n",
      "9 * 6 =   54\n",
      "9 * 7 =   63\n",
      "9 * 8 =   72\n",
      "9 * 9 =   81\n"
     ]
    }
   ],
   "source": [
    "n=10\n",
    "for i in range(10):\n",
    "    for j in range(n):\n",
    "        print(\"{} * {} =  \".format(i,j),i*j)"
   ]
  },
  {
   "cell_type": "markdown",
   "metadata": {},
   "source": [
    "27. Write a Python program to input a number from user and count number of digits in the given\n",
    "integer."
   ]
  },
  {
   "cell_type": "code",
   "execution_count": 3,
   "metadata": {},
   "outputs": [
    {
     "name": "stdout",
     "output_type": "stream",
     "text": [
      "Enter a number: 6489\n",
      "4\n"
     ]
    }
   ],
   "source": [
    "while True:\n",
    "    try:\n",
    "        x=int(input('Enter a number: '))\n",
    "        if x or x == 0:\n",
    "            break\n",
    "    except:\n",
    "        print('Enter a valid number:')\n",
    "b=0\n",
    "n=10\n",
    "while (x!=0):\n",
    "    x=int(x/n)\n",
    "\n",
    "    b+=1\n",
    "    \n",
    "print(b)"
   ]
  },
  {
   "cell_type": "markdown",
   "metadata": {},
   "source": [
    "28. Write a Python program to input a number from user and find if the number is Palindrome."
   ]
  },
  {
   "cell_type": "code",
   "execution_count": 7,
   "metadata": {},
   "outputs": [
    {
     "name": "stdout",
     "output_type": "stream",
     "text": [
      "Enter a number: 54\n",
      "4\n",
      "45\n",
      "The entered number is NOT Palindrome!!!\n"
     ]
    }
   ],
   "source": [
    "while True:\n",
    "    try:\n",
    "        x=int(input('Enter a number: '))\n",
    "        if x or x == 0:\n",
    "            break\n",
    "    except:\n",
    "        print('Enter a valid number:')\n",
    "dev=0\n",
    "temp=x\n",
    "while (x>0):\n",
    "    dig=x%10\n",
    "    dev=dev*10+dig\n",
    "    x//=10\n",
    "if (temp== dev):\n",
    "    print('The entered number is Palindrome')\n",
    "else:\n",
    "    print('The entered number is NOT Palindrome!!!')"
   ]
  },
  {
   "cell_type": "markdown",
   "metadata": {},
   "source": [
    "29. Write a Python program to input a number and calculate the sum of its digits."
   ]
  },
  {
   "cell_type": "code",
   "execution_count": 3,
   "metadata": {},
   "outputs": [
    {
     "name": "stdout",
     "output_type": "stream",
     "text": [
      "Enter a number: 987\n",
      "24\n"
     ]
    }
   ],
   "source": [
    "while True:\n",
    "    try:\n",
    "        x=int(input('Enter a number: '))\n",
    "        if x or x == 0:\n",
    "            break\n",
    "    except:\n",
    "        print('Enter a valid number:')\n",
    "dev=0\n",
    "temp=x\n",
    "d=0\n",
    "s=0\n",
    "while (x>0):\n",
    "    dig=x%10\n",
    "    dev=dev*10+dig\n",
    "    s=s+dev%10\n",
    "    d+=1\n",
    "   # print(dev)\n",
    "    x//=10\n",
    "print(s)\n"
   ]
  },
  {
   "cell_type": "markdown",
   "metadata": {},
   "source": [
    "30. Write a Python program find the maximum number to get of 3-3 digit palindrome(do not use\n",
    "strings)."
   ]
  },
  {
   "cell_type": "code",
   "execution_count": null,
   "metadata": {},
   "outputs": [],
   "source": []
  },
  {
   "cell_type": "markdown",
   "metadata": {},
   "source": [
    "31. Given a string, return the sum and average of the digits that appear in the string, ignoring all\n",
    "other characters."
   ]
  },
  {
   "cell_type": "code",
   "execution_count": 14,
   "metadata": {},
   "outputs": [
    {
     "name": "stdout",
     "output_type": "stream",
     "text": [
      "8\n",
      "4\n",
      "5\n",
      "6\n",
      "8\n",
      "8\n",
      "sum = 39\n",
      "average=  6.5\n"
     ]
    }
   ],
   "source": [
    "st='mahmoud8f ff45688d'\n",
    "b=list(st)\n",
    "m=len(st)\n",
    "sum1=0\n",
    "av=0\n",
    "for n in range(m):\n",
    "    s=str(b[n])\n",
    "    if (s.isdecimal()):\n",
    "        av+=1\n",
    "        \n",
    "        sum1=sum1+int(b[n])\n",
    "    \n",
    "print( 'sum =',sum1)       \n",
    "print('average= ', (sum1/av))"
   ]
  },
  {
   "cell_type": "markdown",
   "metadata": {},
   "source": [
    "32. Find all occurrences of “USA” in given string ignoring the case."
   ]
  },
  {
   "cell_type": "code",
   "execution_count": 38,
   "metadata": {},
   "outputs": [
    {
     "name": "stdout",
     "output_type": "stream",
     "text": [
      "5\n"
     ]
    }
   ],
   "source": [
    "st = 'mamfdkusa usa USA USA UHW UsA'\n",
    "st=st.upper()\n",
    "b=st.count('USA')\n",
    "print(b)"
   ]
  },
  {
   "cell_type": "markdown",
   "metadata": {},
   "source": [
    "33. Apply the String characters balance Test (occurrences of all appeared characters must be equal)."
   ]
  },
  {
   "cell_type": "code",
   "execution_count": 27,
   "metadata": {},
   "outputs": [
    {
     "name": "stdout",
     "output_type": "stream",
     "text": [
      "Enter a string mkh\n",
      "the String characters balance\n"
     ]
    }
   ],
   "source": [
    "sts=input('Enter a string ')\n",
    "st=sts\n",
    "st1='aasddf'\n",
    "s=0\n",
    "d=0\n",
    "b =list()\n",
    "for n in st:\n",
    "    b.append(int(str(st.count(n))))\n",
    "b=list(dict.fromkeys(b)) \n",
    "if (len(b)==1):\n",
    "        print('the String characters balance')\n",
    "else:\n",
    "        print('the String is NOT characters balance !!!!')\n",
    "    \n",
    "    \n"
   ]
  },
  {
   "cell_type": "markdown",
   "metadata": {},
   "source": [
    "34. Given a string and and int n, remove n characters from string by each time until the string has\n",
    "no more characters."
   ]
  },
  {
   "cell_type": "code",
   "execution_count": 22,
   "metadata": {},
   "outputs": [
    {
     "name": "stdout",
     "output_type": "stream",
     "text": [
      "Enter a number: 2\n",
      "['m' 'a' 'h' 'm' 'o' 'u' 'd' 'm' 'm' 'a']\n",
      "['h' 'm' 'o' 'u' 'd' 'm' 'm' 'a']\n",
      "['o' 'u' 'd' 'm' 'm' 'a']\n",
      "['d' 'm' 'm' 'a']\n",
      "['m' 'a']\n",
      "[]\n"
     ]
    }
   ],
   "source": [
    " n=int(input('Enter a number: '))\n",
    " st='mahmoudmma'\n",
    "# c=len(st)\n",
    "# while (c>0):\n",
    "#     st=st-st[:n]\n",
    "#     c=len(st)\n",
    "#     print(st)\n",
    "\n",
    "b=list(st)\n",
    "c=len(b)+1\n",
    "while (c>0):\n",
    "        st=str(b)\n",
    "        c=len(b)\n",
    "        st=st.replace(',','')\n",
    "        print(st)\n",
    "        del b[:n]\n",
    "        \n",
    "        \n",
    "        \n",
    "\n"
   ]
  },
  {
   "cell_type": "markdown",
   "metadata": {},
   "source": [
    "35. Accept string from the user and display only those characters which are present at an even\n",
    "index"
   ]
  },
  {
   "cell_type": "code",
   "execution_count": 13,
   "metadata": {},
   "outputs": [
    {
     "name": "stdout",
     "output_type": "stream",
     "text": [
      "Enter a string: mahmoud\n",
      "mhod\n"
     ]
    }
   ],
   "source": [
    "st=input('Enter a string: ')\n",
    "print(st[0::2])"
   ]
  },
  {
   "cell_type": "markdown",
   "metadata": {},
   "source": [
    "36. Remove duplicate from a string and print the results."
   ]
  },
  {
   "cell_type": "code",
   "execution_count": 20,
   "metadata": {},
   "outputs": [
    {
     "name": "stdout",
     "output_type": "stream",
     "text": [
      "['m', 'a', 'h', 'o', 'u', 'd']\n"
     ]
    }
   ],
   "source": [
    "st='mahmoud'\n",
    "b=list(st)\n",
    "b=list(dict.fromkeys(b)) \n",
    "\n",
    "st=str(b)\n",
    "print(st)"
   ]
  },
  {
   "cell_type": "markdown",
   "metadata": {},
   "source": [
    "37. Remove duplicate from a string and print how much time each character appeared."
   ]
  },
  {
   "cell_type": "code",
   "execution_count": 50,
   "metadata": {},
   "outputs": [
    {
     "name": "stdout",
     "output_type": "stream",
     "text": [
      "Enter a string mghmgg\n",
      "['m', 'g', 'h']\n",
      "[2, 3, 1]\n"
     ]
    }
   ],
   "source": [
    "sts=input('Enter a string ')\n",
    "st=sts\n",
    "st1=''\n",
    "s=0\n",
    "d=0\n",
    "b =list()\n",
    "m=0\n",
    "b1=list(st)\n",
    "b1=list(dict.fromkeys(b1)) \n",
    "\n",
    "st2=str(b1)\n",
    "print(st2)\n",
    "for n in st:\n",
    "    c=st.count(n)\n",
    "    b.append(int(str(c)))\n",
    "    if(c>1):\n",
    "        st=st.replace(n,'')\n",
    "b = [x for x in b if x != 0]\n",
    "print(b)"
   ]
  },
  {
   "cell_type": "markdown",
   "metadata": {},
   "source": [
    "38. Find all unique character, numbers, ...etc. in a string and print them."
   ]
  },
  {
   "cell_type": "code",
   "execution_count": 59,
   "metadata": {},
   "outputs": [
    {
     "name": "stdout",
     "output_type": "stream",
     "text": [
      "Enter a string dsnv;sd63\n",
      "['n', 'v', ';', '6', '3']\n"
     ]
    }
   ],
   "source": [
    "sts=input('Enter a string ')\n",
    "st=sts\n",
    "b=[]\n",
    "for n in st:\n",
    "    c=st.count(n)\n",
    "    if(c==1):\n",
    "        b.append(n)\n",
    "        st=st.replace(n,'')\n",
    "    else:\n",
    "        pass\n",
    "        \n",
    "print(b)\n",
    "        "
   ]
  },
  {
   "cell_type": "markdown",
   "metadata": {},
   "source": [
    "39. Write a Python program to accept a filename from the user as a string and print the extension\n",
    "of that file.\n",
    "Sample filename : abc.java\n",
    "Output : java"
   ]
  },
  {
   "cell_type": "code",
   "execution_count": 63,
   "metadata": {},
   "outputs": [
    {
     "name": "stdout",
     "output_type": "stream",
     "text": [
      "Enter a file name with its extension:mahmoud.java\n",
      "'java'\n"
     ]
    }
   ],
   "source": [
    "st=input('Enter a file name with its extension:')\n",
    "st1=st.split('.')\n",
    "st1=repr(st1[-1])\n",
    "print(st1)"
   ]
  },
  {
   "cell_type": "markdown",
   "metadata": {},
   "source": [
    "40. Write a Python program to get a new string from a given string where ”Is” has been added to\n",
    "the front. If the given string already begins with ”Is” then return the string unchanged."
   ]
  },
  {
   "cell_type": "code",
   "execution_count": 67,
   "metadata": {},
   "outputs": [
    {
     "name": "stdout",
     "output_type": "stream",
     "text": [
      "Enter a string: Is mahmoud\n",
      " the string unchanged\n"
     ]
    }
   ],
   "source": [
    "st=input('Enter a string: ')\n",
    "st1='Is'\n",
    "st2=st[:2]\n",
    "if st2==st1 :\n",
    "    print(' the string unchanged')\n",
    "else:\n",
    "    st3=st1+st\n",
    "    print(st3)\n"
   ]
  },
  {
   "cell_type": "markdown",
   "metadata": {},
   "source": [
    "41. Write a Python program to get a string which is n (non-negative integer) copies of a given\n",
    "string"
   ]
  },
  {
   "cell_type": "code",
   "execution_count": 69,
   "metadata": {},
   "outputs": [
    {
     "name": "stdout",
     "output_type": "stream",
     "text": [
      "Enter a string: python . \n",
      "Enter a non-negative integer only:5\n",
      "python . python . python . python . python . \n"
     ]
    }
   ],
   "source": [
    "st=input('Enter a string: ')\n",
    "while True:\n",
    "    try:\n",
    "        n=int(input('Enter a non-negative integer only:'))\n",
    "        if n or n>=0:\n",
    "            break\n",
    "    except:\n",
    "        print('Enter a valid non-negative integer ')\n",
    "print(st*n)"
   ]
  },
  {
   "cell_type": "markdown",
   "metadata": {},
   "source": [
    "42. Write a Python program to get the n (non-negative integer) copies of the first 2 characters of\n",
    "a given string. Return the n copies of the whole string if the length is less than 2."
   ]
  },
  {
   "cell_type": "code",
   "execution_count": 74,
   "metadata": {},
   "outputs": [
    {
     "name": "stdout",
     "output_type": "stream",
     "text": [
      "Enter a string: msa\n",
      "Enter a non-negative integer only:5\n",
      "msmsmsmsms\n"
     ]
    }
   ],
   "source": [
    "st=input('Enter a string: ')\n",
    "while True:\n",
    "    try:\n",
    "        n=int(input('Enter a non-negative integer only:'))\n",
    "        if n or n>=0:\n",
    "            break\n",
    "    except:\n",
    "        print('Enter a valid non-negative integer ')\n",
    "b = len(st)\n",
    "if b<2:\n",
    "    print(st*n)\n",
    "else:\n",
    "    print(st[:2]*n)"
   ]
  },
  {
   "cell_type": "markdown",
   "metadata": {},
   "source": [
    "43. Write a Python program to print out the set of all the characters from St1 which are not present\n",
    "in St2"
   ]
  },
  {
   "cell_type": "code",
   "execution_count": null,
   "metadata": {},
   "outputs": [],
   "source": [
    "\n"
   ]
  },
  {
   "cell_type": "code",
   "execution_count": 85,
   "metadata": {},
   "outputs": [],
   "source": [
    "# st=input('Enter a string st1: ')\n",
    "# st2=input('Enter a string st2: ')\n",
    "# m=len(st)\n",
    "# lis=''\n",
    "# b=len(st2)\n",
    "# n=1\n",
    "# a=1\n",
    "# for n in range(m):\n",
    "#     if st2[(n-1)] in st1:\n",
    "#         pass\n",
    "#     else:\n",
    "#         lis=lis+st2[(n-1)]\n",
    "#         #add(lis,st2[n])\n",
    "# for a in range(b):\n",
    "#     if st1[(a-1)] in st2:\n",
    "#         pass\n",
    "#     else:\n",
    "#         lis=lis+st2[(a-1)]\n",
    "#         #add(lis,st1[n])\n",
    "# print(lis)\n",
    "    \n",
    "\n",
    "                \n",
    "    "
   ]
  },
  {
   "cell_type": "markdown",
   "metadata": {},
   "source": [
    "44. Write a Python program to display your given details like name, age, address in three different\n",
    "lines."
   ]
  },
  {
   "cell_type": "code",
   "execution_count": 87,
   "metadata": {},
   "outputs": [
    {
     "name": "stdout",
     "output_type": "stream",
     "text": [
      "Name: mahmoud alqannas\n",
      "age: 25\n",
      "Address: Amman, Jordan\n"
     ]
    }
   ],
   "source": [
    "name='mahmoud alqannas'\n",
    "age=25\n",
    "address = 'Amman, Jordan'\n",
    "\n",
    "print(\"Name: {}\\nage: {}\\nAddress: {}\".format(name, age, address))\n"
   ]
  },
  {
   "cell_type": "markdown",
   "metadata": {},
   "source": [
    "45. Write a Python program to sort three integers without using conditional statements, loops or\n",
    "strings."
   ]
  },
  {
   "cell_type": "code",
   "execution_count": 96,
   "metadata": {},
   "outputs": [
    {
     "name": "stdout",
     "output_type": "stream",
     "text": [
      "[5, 78, 94]\n"
     ]
    }
   ],
   "source": [
    "lis=[5,94,78]\n",
    "lis.sort()\n",
    "print(lis)\n"
   ]
  },
  {
   "cell_type": "markdown",
   "metadata": {},
   "source": [
    "46. Write a Python program to get the summation of the ASCII values of aaa characters in a string."
   ]
  },
  {
   "cell_type": "code",
   "execution_count": null,
   "metadata": {},
   "outputs": [],
   "source": []
  },
  {
   "cell_type": "markdown",
   "metadata": {},
   "source": [
    "47. Write a Python program to convert a byte string to a list of integers."
   ]
  },
  {
   "cell_type": "code",
   "execution_count": 99,
   "metadata": {},
   "outputs": [
    {
     "name": "stdout",
     "output_type": "stream",
     "text": [
      "[109, 97, 104, 109, 111, 117, 100]\n"
     ]
    }
   ],
   "source": [
    "st1= b'mahmoud'   \n",
    "print(list(st1))\n"
   ]
  },
  {
   "cell_type": "markdown",
   "metadata": {},
   "source": [
    "48. Write a Python program to get the identity of an object."
   ]
  },
  {
   "cell_type": "code",
   "execution_count": 101,
   "metadata": {},
   "outputs": [
    {
     "data": {
      "text/plain": [
       "2875463995496"
      ]
     },
     "execution_count": 101,
     "metadata": {},
     "output_type": "execute_result"
    }
   ],
   "source": [
    "st='nah'\n",
    "id(st)\n"
   ]
  },
  {
   "cell_type": "markdown",
   "metadata": {},
   "source": [
    "49. Write a Python program to get the system time."
   ]
  },
  {
   "cell_type": "code",
   "execution_count": 103,
   "metadata": {},
   "outputs": [
    {
     "name": "stdout",
     "output_type": "stream",
     "text": [
      "15:25:35\n"
     ]
    }
   ],
   "source": [
    "import time\n",
    "t= time.localtime()\n",
    "time = time.strftime(\"%H:%M:%S\", t)\n",
    "print(time)"
   ]
  },
  {
   "cell_type": "markdown",
   "metadata": {},
   "source": [
    "50. Write a Python program to find the ASCII string of a given number."
   ]
  },
  {
   "cell_type": "code",
   "execution_count": 109,
   "metadata": {},
   "outputs": [
    {
     "name": "stdout",
     "output_type": "stream",
     "text": [
      "a\n"
     ]
    }
   ],
   "source": [
    "b=97\n",
    "print(chr(b))"
   ]
  },
  {
   "cell_type": "markdown",
   "metadata": {},
   "source": [
    "51. Write a Python program to prove that two string variables of same value point same memory\n",
    "location."
   ]
  },
  {
   "cell_type": "code",
   "execution_count": 110,
   "metadata": {},
   "outputs": [
    {
     "name": "stdout",
     "output_type": "stream",
     "text": [
      "st1 and st2 are in the same memory location\n"
     ]
    }
   ],
   "source": [
    "st1='mahmoud'\n",
    "st2='mahmoud'\n",
    "if id(st1)==id(st2):\n",
    "    print('st1 and st2 are in the same memory location')"
   ]
  },
  {
   "cell_type": "markdown",
   "metadata": {},
   "source": [
    "    52. Write a Python function that takes a positive integer and returns the sum of the cube of all\n",
    "the positive integers smaller than the specified number."
   ]
  },
  {
   "cell_type": "code",
   "execution_count": 114,
   "metadata": {},
   "outputs": [
    {
     "name": "stdout",
     "output_type": "stream",
     "text": [
      "Enter a non-negative integer only:4\n",
      "36\n"
     ]
    }
   ],
   "source": [
    "while True:\n",
    "    try:\n",
    "        n=int(input('Enter a non-negative integer only:'))\n",
    "        if n or n>=0:\n",
    "            break\n",
    "    except:\n",
    "        print('Enter a valid postive integer ')\n",
    "sum1=0\n",
    "for i in range(n):\n",
    "    sum1=sum1+i**3\n",
    "print(sum1)\n",
    "    "
   ]
  },
  {
   "cell_type": "markdown",
   "metadata": {},
   "source": [
    "53. Write a Python program to add two positive integers without using the ’+’ operator.\n",
    "Note: Use bit wise operations to add two numbers"
   ]
  },
  {
   "cell_type": "code",
   "execution_count": 126,
   "metadata": {},
   "outputs": [
    {
     "name": "stdout",
     "output_type": "stream",
     "text": [
      "14\n"
     ]
    }
   ],
   "source": [
    "a=5\n",
    "b=9\n",
    "while b != 0:\n",
    "        data = a & b\n",
    "        a = a ^ b\n",
    "        b = data << 1\n",
    "print(a)"
   ]
  },
  {
   "cell_type": "markdown",
   "metadata": {},
   "source": [
    "54. Write a Python program to get all strobogrammatic numbers that are of length n.\n",
    "A strobogrammatic number is a number whose numeral is rotationally symmetric, so that it\n",
    "appears the same when rotated 180 degrees. In other words, the numeral looks the same rightside\n",
    "up and upside down (e.g., 69, 96, 1001).\n",
    "For example,\n",
    "Given n = 2, return [”11”, ”69”, ”88”, ”96”]. Given n = 3, return [’818’, ’111’, ’916’, ’619’,\n",
    "’808’, ’101’, ’906’, ’609’, ’888’, ’181’, ’986’, ’689’]"
   ]
  },
  {
   "cell_type": "code",
   "execution_count": 134,
   "metadata": {},
   "outputs": [
    {
     "name": "stdout",
     "output_type": "stream",
     "text": [
      "n = 2: \n",
      " ['88', '11', '96', '69']\n",
      "n = 3: \n",
      " ['818', '111', '916', '619', '808', '101', '906', '609', '888', '181', '986', '689']\n",
      "n = 4: \n",
      " ['8008', '1001', '9006', '6009', '8888', '1881', '9886', '6889', '8118', '1111', '9116', '6119', '8968', '1961', '9966', '6969', '8698', '1691', '9696', '6699']\n"
     ]
    }
   ],
   "source": [
    "def gen_strobogrammatic(n):\n",
    "    \"\"\"\n",
    "    :type n: int\n",
    "    :rtype: List[str]\n",
    "    \"\"\"\n",
    "    result = helper(n, n)\n",
    "    return result\n",
    "\n",
    "\n",
    "def helper(n, length):\n",
    "    if n == 0:\n",
    "        return [\"\"]\n",
    "    if n == 1:\n",
    "        return [\"1\", \"0\", \"8\"]\n",
    "    middles = helper(n-2, length)\n",
    "    result = []\n",
    "    for middle in middles:\n",
    "        if n != length:\n",
    "            result.append(\"0\" + middle + \"0\")\n",
    "        result.append(\"8\" + middle + \"8\")\n",
    "        result.append(\"1\" + middle + \"1\")\n",
    "        result.append(\"9\" + middle + \"6\")\n",
    "        result.append(\"6\" + middle + \"9\")\n",
    "    return result\n",
    "\n",
    "print(\"n = 2: \\n\",gen_strobogrammatic(2))\n",
    "print(\"n = 3: \\n\",gen_strobogrammatic(3))\n",
    "print(\"n = 4: \\n\",gen_strobogrammatic(4))"
   ]
  },
  {
   "cell_type": "markdown",
   "metadata": {},
   "source": [
    "55. Write a Python program to find the median among n given numbers."
   ]
  },
  {
   "cell_type": "code",
   "execution_count": 144,
   "metadata": {},
   "outputs": [
    {
     "name": "stdout",
     "output_type": "stream",
     "text": [
      "9\n"
     ]
    }
   ],
   "source": [
    "import statistics\n",
    "lis=[5,9,8,7,6,41,85,265,74]\n",
    "print(statistics.median(lis))\n"
   ]
  },
  {
   "cell_type": "markdown",
   "metadata": {},
   "source": [
    "56. Write a Python program to find all the divisors of a given number."
   ]
  },
  {
   "cell_type": "code",
   "execution_count": 150,
   "metadata": {},
   "outputs": [
    {
     "name": "stdout",
     "output_type": "stream",
     "text": [
      "[1, 2, 5, 10, 25]\n"
     ]
    }
   ],
   "source": [
    "n=50\n",
    "s=0\n",
    "b=[]\n",
    "\n",
    "for i in range(1,50):\n",
    "    s=50%i\n",
    "    if s==0:\n",
    "        b.append(i)\n",
    "print(b)"
   ]
  },
  {
   "cell_type": "markdown",
   "metadata": {},
   "source": [
    "57. Write a Python program to find the number of divisors of a given integer is even or odd."
   ]
  },
  {
   "cell_type": "code",
   "execution_count": 151,
   "metadata": {},
   "outputs": [
    {
     "name": "stdout",
     "output_type": "stream",
     "text": [
      "[1, 2, 5, 10, 25]\n",
      "the number of divisors is odd\n"
     ]
    }
   ],
   "source": [
    "n=50\n",
    "s=0\n",
    "b=[]\n",
    "\n",
    "for i in range(1,50):\n",
    "    s=50%i\n",
    "    if s==0:\n",
    "        b.append(i)\n",
    "c=len(b)\n",
    "print(b)\n",
    "if c%2==0:\n",
    "    print('the number of divisors is even')\n",
    "else:\n",
    "    print('the number of divisors is odd')\n",
    "        "
   ]
  },
  {
   "cell_type": "markdown",
   "metadata": {},
   "source": [
    "58. Write a Python program to create a sequence where the first four members of the sequence are\n",
    "equal to one, and each successive term of the sequence is equal to the sum of the four previous\n",
    "ones. Find the Nth member of the sequence."
   ]
  },
  {
   "cell_type": "code",
   "execution_count": 5,
   "metadata": {},
   "outputs": [
    {
     "name": "stdout",
     "output_type": "stream",
     "text": [
      "Enter a Nth member of the sequence you want: 4\n"
     ]
    },
    {
     "ename": "IndexError",
     "evalue": "list index out of range",
     "output_type": "error",
     "traceback": [
      "\u001b[1;31m---------------------------------------------------------------------------\u001b[0m",
      "\u001b[1;31mIndexError\u001b[0m                                Traceback (most recent call last)",
      "\u001b[1;32m<ipython-input-5-5e04b8b2647a>\u001b[0m in \u001b[0;36m<module>\u001b[1;34m\u001b[0m\n\u001b[0;32m     12\u001b[0m \u001b[1;33m\u001b[0m\u001b[0m\n\u001b[0;32m     13\u001b[0m     \u001b[1;32mfor\u001b[0m \u001b[0ms\u001b[0m \u001b[1;32min\u001b[0m \u001b[0mrange\u001b[0m\u001b[1;33m(\u001b[0m\u001b[1;36m1\u001b[0m\u001b[1;33m,\u001b[0m\u001b[1;36m5\u001b[0m\u001b[1;33m)\u001b[0m\u001b[1;33m:\u001b[0m\u001b[1;33m\u001b[0m\u001b[1;33m\u001b[0m\u001b[0m\n\u001b[1;32m---> 14\u001b[1;33m         \u001b[0mb\u001b[0m\u001b[1;33m.\u001b[0m\u001b[0mappend\u001b[0m\u001b[1;33m(\u001b[0m\u001b[0mb\u001b[0m\u001b[1;33m[\u001b[0m\u001b[0ms\u001b[0m\u001b[1;33m]\u001b[0m\u001b[1;33m)\u001b[0m\u001b[1;33m\u001b[0m\u001b[1;33m\u001b[0m\u001b[0m\n\u001b[0m\u001b[0;32m     15\u001b[0m \u001b[1;33m\u001b[0m\u001b[0m\n\u001b[0;32m     16\u001b[0m \u001b[0mprint\u001b[0m\u001b[1;33m(\u001b[0m\u001b[0mb\u001b[0m\u001b[1;33m)\u001b[0m\u001b[1;33m\u001b[0m\u001b[1;33m\u001b[0m\u001b[0m\n",
      "\u001b[1;31mIndexError\u001b[0m: list index out of range"
     ]
    }
   ],
   "source": [
    "while True:\n",
    "    try:\n",
    "        x=int(input('Enter a Nth member of the sequence you want: '))\n",
    "        if x or x>0:\n",
    "            break\n",
    "    except:\n",
    "            print('Enter avalid number:')\n",
    "b=[]*(4**x)\n",
    "c=len(b)\n",
    "v=4**x\n",
    "for n in range(0,v,4):\n",
    "    \n",
    "    for s in range(1,5):\n",
    "        b.append()\n",
    "        \n",
    "print(b)"
   ]
  },
  {
   "cell_type": "markdown",
   "metadata": {},
   "source": [
    "59. Write a Python program that accept a positive number and subtract from this number the sum\n",
    "of its digits and so on. Continues this operation until the number is positive"
   ]
  },
  {
   "cell_type": "code",
   "execution_count": 10,
   "metadata": {},
   "outputs": [
    {
     "name": "stdout",
     "output_type": "stream",
     "text": [
      "Enter a number: 100\n",
      "sum of its digits :  1\n",
      "100\n",
      "99\n",
      "98\n",
      "97\n",
      "96\n",
      "95\n",
      "94\n",
      "93\n",
      "92\n",
      "91\n",
      "90\n",
      "89\n",
      "88\n",
      "87\n",
      "86\n",
      "85\n",
      "84\n",
      "83\n",
      "82\n",
      "81\n",
      "80\n",
      "79\n",
      "78\n",
      "77\n",
      "76\n",
      "75\n",
      "74\n",
      "73\n",
      "72\n",
      "71\n",
      "70\n",
      "69\n",
      "68\n",
      "67\n",
      "66\n",
      "65\n",
      "64\n",
      "63\n",
      "62\n",
      "61\n",
      "60\n",
      "59\n",
      "58\n",
      "57\n",
      "56\n",
      "55\n",
      "54\n",
      "53\n",
      "52\n",
      "51\n",
      "50\n",
      "49\n",
      "48\n",
      "47\n",
      "46\n",
      "45\n",
      "44\n",
      "43\n",
      "42\n",
      "41\n",
      "40\n",
      "39\n",
      "38\n",
      "37\n",
      "36\n",
      "35\n",
      "34\n",
      "33\n",
      "32\n",
      "31\n",
      "30\n",
      "29\n",
      "28\n",
      "27\n",
      "26\n",
      "25\n",
      "24\n",
      "23\n",
      "22\n",
      "21\n",
      "20\n",
      "19\n",
      "18\n",
      "17\n",
      "16\n",
      "15\n",
      "14\n",
      "13\n",
      "12\n",
      "11\n",
      "10\n",
      "9\n",
      "8\n",
      "7\n",
      "6\n",
      "5\n",
      "4\n",
      "3\n",
      "2\n",
      "1\n"
     ]
    }
   ],
   "source": [
    "while True:\n",
    "    try:\n",
    "        x=int(input('Enter a number: '))\n",
    "        if x or x == 0:\n",
    "            break\n",
    "    except:\n",
    "        print('Enter a valid number:')\n",
    "dev=0\n",
    "temp=x\n",
    "d=0\n",
    "s=0\n",
    "while (x>0):\n",
    "    dig=x%10\n",
    "    dev=dev*10+dig\n",
    "    s=s+dev%10\n",
    "    d+=1\n",
    "   # print(dev)\n",
    "    x//=10\n",
    "print('sum of its digits : ',s)\n",
    "while temp>0:\n",
    "    print(temp)\n",
    "    temp=temp-s\n"
   ]
  },
  {
   "cell_type": "markdown",
   "metadata": {},
   "source": [
    "60. Write a Python program to find the digits which are absent in a given mobile number."
   ]
  },
  {
   "cell_type": "code",
   "execution_count": 19,
   "metadata": {},
   "outputs": [
    {
     "name": "stdout",
     "output_type": "stream",
     "text": [
      "[1, 2, 3]\n"
     ]
    }
   ],
   "source": [
    "n=[5,0,9,8,7,4,6]\n",
    "all_nums = set([0,1,2,3,4,5,6,7,8,9])\n",
    "n = set([int(i) for i in n])\n",
    "n = n.symmetric_difference(all_nums)\n",
    "n = sorted(n)\n",
    "print(n)    "
   ]
  },
  {
   "cell_type": "markdown",
   "metadata": {},
   "source": [
    "Write a Python program to check whether three given lengths (integers) of three sides form a\n",
    "right triangle. Print ”Yes” if the given sides form a right triangle otherwise print ”No”.\n",
    "Input: Integers separated by a single space.\n",
    "1 = length of the side = 1,000\n",
    "Input three integers(sides of a triangle)\n",
    "8 6 7\n",
    "No"
   ]
  },
  {
   "cell_type": "code",
   "execution_count": null,
   "metadata": {},
   "outputs": [],
   "source": []
  }
 ],
 "metadata": {
  "kernelspec": {
   "display_name": "Python 3",
   "language": "python",
   "name": "python3"
  },
  "language_info": {
   "codemirror_mode": {
    "name": "ipython",
    "version": 3
   },
   "file_extension": ".py",
   "mimetype": "text/x-python",
   "name": "python",
   "nbconvert_exporter": "python",
   "pygments_lexer": "ipython3",
   "version": "3.7.3"
  }
 },
 "nbformat": 4,
 "nbformat_minor": 2
}
