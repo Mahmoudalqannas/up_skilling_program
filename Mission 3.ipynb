{
 "cells": [
  {
   "cell_type": "markdown",
   "metadata": {},
   "source": [
    "1. Reverse a given number loops and equations and return true if it is the same as the original\n",
    "number."
   ]
  },
  {
   "cell_type": "code",
   "execution_count": 3,
   "metadata": {},
   "outputs": [
    {
     "name": "stdout",
     "output_type": "stream",
     "text": [
      "Enter a number: 609\n",
      "The reverse number is : 906\n"
     ]
    }
   ],
   "source": [
    "while True:\n",
    "    try:\n",
    "        x=int(input('Enter a number: '))\n",
    "        if x or x == 0:\n",
    "            break\n",
    "    except:\n",
    "        print('Enter a valid number:')\n",
    "dev=0\n",
    "temp=x\n",
    "while (x>0):\n",
    "    dig=x%10\n",
    "    dev=dev*10+dig\n",
    "    x//=10\n",
    "print('The reverse number is :',dev)\n",
    "if (temp== dev):\n",
    "    print(True)\n"
   ]
  },
  {
   "cell_type": "markdown",
   "metadata": {},
   "source": [
    "2. Write a Python program to remove the nth index character from a nonempty string."
   ]
  },
  {
   "cell_type": "code",
   "execution_count": 40,
   "metadata": {},
   "outputs": [
    {
     "name": "stdout",
     "output_type": "stream",
     "text": [
      "mahmud\n"
     ]
    }
   ],
   "source": [
    "st='mahmoud'\n",
    "n=4\n",
    "st=st[:n]+st[n+1:]\n",
    "print(st)\n"
   ]
  },
  {
   "cell_type": "markdown",
   "metadata": {},
   "source": [
    "3. Write a Python program to calculate the length of a string."
   ]
  },
  {
   "cell_type": "code",
   "execution_count": 14,
   "metadata": {},
   "outputs": [
    {
     "name": "stdout",
     "output_type": "stream",
     "text": [
      "7\n"
     ]
    }
   ],
   "source": [
    "st='mahmoud'\n",
    "c=len(st);print(c)"
   ]
  },
  {
   "cell_type": "markdown",
   "metadata": {},
   "source": [
    "4. loop over a string and each time delete the last two character until no characters left."
   ]
  },
  {
   "cell_type": "code",
   "execution_count": 49,
   "metadata": {},
   "outputs": [
    {
     "name": "stdout",
     "output_type": "stream",
     "text": [
      "mahmoud alqannjbkjbkjbjbhjbjhvhjvhjvh\n",
      "mahmoud alqannjbkjbkjbjbhjbjhvhjvhj\n",
      "mahmoud alqannjbkjbkjbjbhjbjhvhjv\n",
      "mahmoud alqannjbkjbkjbjbhjbjhvh\n",
      "mahmoud alqannjbkjbkjbjbhjbjh\n",
      "mahmoud alqannjbkjbkjbjbhjb\n",
      "mahmoud alqannjbkjbkjbjbh\n",
      "mahmoud alqannjbkjbkjbj\n",
      "mahmoud alqannjbkjbkj\n",
      "mahmoud alqannjbkjb\n",
      "mahmoud alqannjbk\n",
      "mahmoud alqannj\n",
      "mahmoud alqan\n",
      "mahmoud alq\n",
      "mahmoud a\n",
      "mahmoud\n",
      "mahmo\n",
      "mah\n",
      "m\n",
      "\n",
      "The string is empty Now!!!\n"
     ]
    }
   ],
   "source": [
    "st='mahmoud alqannjbkjbkjbjbhjbjhvhjvhjvhas'\n",
    "c=int(len(st)/2)+1\n",
    "for n in range(c):\n",
    "    st=st[:(len(st)-2)]\n",
    "    print(st)\n",
    "    if st=='':\n",
    "        print('The string is empty Now!!!')"
   ]
  },
  {
   "cell_type": "markdown",
   "metadata": {},
   "source": [
    "5. Write a Python program to create a string contains the unique characters in a string."
   ]
  },
  {
   "cell_type": "code",
   "execution_count": 64,
   "metadata": {},
   "outputs": [
    {
     "name": "stdout",
     "output_type": "stream",
     "text": [
      "['a', 'h', 'o', 'u', 'k', 'j', 'v', 'i', '5', '4', '@', '#', '$', '%', '2']\n"
     ]
    }
   ],
   "source": [
    "st1='mahmoudfskdjfsdvisd54@#$%2'\n",
    "st2=[]\n",
    "for n in st1:\n",
    "    c=st1.count(n)\n",
    "    if c ==1:\n",
    "        st2.append(n)\n",
    "        #st2=st2+st1.add(n)\n",
    "print(ascii(st2))"
   ]
  },
  {
   "cell_type": "markdown",
   "metadata": {},
   "source": [
    "6. Write a Python program to count the number of occurrences of characters (character frequency)\n",
    "in a string."
   ]
  },
  {
   "cell_type": "code",
   "execution_count": 65,
   "metadata": {},
   "outputs": [
    {
     "name": "stdout",
     "output_type": "stream",
     "text": [
      "Enter a string sdgdf51gdfgbfsasfhbsd\n",
      "['s', 'd', 'g', 'f', '5', '1', 'b', 'a', 'h']\n",
      "[4, 4, 3, 4, 1, 1, 2, 1, 1]\n"
     ]
    }
   ],
   "source": [
    "sts=input('Enter a string ')\n",
    "st=sts\n",
    "st1=''\n",
    "s=0\n",
    "d=0\n",
    "b =list()\n",
    "m=0\n",
    "b1=list(st)\n",
    "b1=list(dict.fromkeys(b1)) \n",
    "\n",
    "st2=str(b1)\n",
    "print(st2)\n",
    "for n in st:\n",
    "    c=st.count(n)\n",
    "    b.append(int(str(c)))\n",
    "    if(c>1):\n",
    "        st=st.replace(n,'')\n",
    "b = [x for x in b if x != 0]\n",
    "print(b)"
   ]
  },
  {
   "cell_type": "markdown",
   "metadata": {},
   "source": [
    "7. Write a Python program to get a string made of the first 2 and the last 2 chars from a given a\n",
    "string. If the string length is less than 2, return instead of the empty string."
   ]
  },
  {
   "cell_type": "code",
   "execution_count": 68,
   "metadata": {},
   "outputs": [
    {
     "name": "stdout",
     "output_type": "stream",
     "text": [
      "saud\n"
     ]
    }
   ],
   "source": [
    "st='salem mahmoud'\n",
    "c=len(st)\n",
    "st1=''\n",
    "if c>2:\n",
    "    st1=st[:2]+st[len(st)-2:]\n",
    "else:\n",
    "    print('empty string!!!!!1')\n",
    "print(st1)\n",
    "    \n",
    "    "
   ]
  },
  {
   "cell_type": "markdown",
   "metadata": {},
   "source": [
    "8. Write a Python program to get a string from a given string where all occurrences of its first\n",
    "char have been changed to ’$’, except the first char itself."
   ]
  },
  {
   "cell_type": "code",
   "execution_count": 71,
   "metadata": {},
   "outputs": [
    {
     "name": "stdout",
     "output_type": "stream",
     "text": [
      "mah$oudasfa$sd\n"
     ]
    }
   ],
   "source": [
    "st='mahmoudasfamsd'\n",
    "st1=st[0]\n",
    "st2=st[0]\n",
    "c=len(st)\n",
    "for n in range(c):\n",
    "    if n>0:\n",
    "        if st[n]==st1:\n",
    "            st2=st2+'$'\n",
    "        else:\n",
    "            st2=st2+st[n]\n",
    "print(st2)\n",
    "            \n",
    "            \n",
    "    "
   ]
  },
  {
   "cell_type": "markdown",
   "metadata": {},
   "source": [
    "9. Write a Python program that takes a string split it into list of words and returns the length of\n",
    "each one."
   ]
  },
  {
   "cell_type": "code",
   "execution_count": 74,
   "metadata": {},
   "outputs": [
    {
     "name": "stdout",
     "output_type": "stream",
     "text": [
      "mahmoud 7\n",
      "yousef 6\n",
      "alqannas 8\n",
      "ITC 3\n",
      "ENG 3\n"
     ]
    }
   ],
   "source": [
    "st='mahmoud yousef alqannas ITC ENG'\n",
    "st1=st.split()\n",
    "for i in st1:\n",
    "    print(i,len(i))"
   ]
  },
  {
   "cell_type": "markdown",
   "metadata": {},
   "source": [
    "10. Write a Python program to check whether a string starts with specified characters."
   ]
  },
  {
   "cell_type": "code",
   "execution_count": 84,
   "metadata": {},
   "outputs": [
    {
     "name": "stdout",
     "output_type": "stream",
     "text": [
      "The string statrs with specified characters\n"
     ]
    }
   ],
   "source": [
    "st='mahmoud'\n",
    "st_check='m'\n",
    "if st[0]==st_check:\n",
    "    print('The string statrs with specified characters')"
   ]
  },
  {
   "cell_type": "markdown",
   "metadata": {},
   "source": [
    "11. Write a Python program to get the last part of a string before a specified character.\n",
    "https://www.w3resource.com/python-exercises\n",
    "https://www.w3resource.com/python"
   ]
  },
  {
   "cell_type": "code",
   "execution_count": 83,
   "metadata": {},
   "outputs": [
    {
     "name": "stdout",
     "output_type": "stream",
     "text": [
      "https://www.w3resource.com/python\n"
     ]
    }
   ],
   "source": [
    "st='https://www.w3resource.com/python-exercises'\n",
    "c=st.index('-')\n",
    "print(st[:c])\n"
   ]
  },
  {
   "cell_type": "markdown",
   "metadata": {},
   "source": [
    "12. Write a Python program to print the following integers with zeros on the left of specified width."
   ]
  },
  {
   "cell_type": "code",
   "execution_count": 91,
   "metadata": {},
   "outputs": [
    {
     "name": "stdout",
     "output_type": "stream",
     "text": [
      "00006424\n",
      "00651156\n",
      "00059465\n",
      "00000005\n"
     ]
    }
   ],
   "source": [
    "n2=651156\n",
    "n1=6424\n",
    "n3=59465\n",
    "n4=5\n",
    "ss='00000000'\n",
    "s1=str(n1);ss1=len(s1);\n",
    "s2=str(n2);ss2=len(s2)\n",
    "s3=str(n3);ss3=len(s3)\n",
    "s4=str(n4);ss4=len(s4)\n",
    "print(ss[ss1:]+s1)\n",
    "print(ss[ss2:]+s2)\n",
    "print(ss[ss3:]+s3)\n",
    "print(ss[ss4:]+s4)\n",
    "\n"
   ]
  },
  {
   "cell_type": "markdown",
   "metadata": {},
   "source": [
    "13. Write a Python program to print the following floating numbers with no decimal places."
   ]
  },
  {
   "cell_type": "code",
   "execution_count": 94,
   "metadata": {},
   "outputs": [
    {
     "name": "stdout",
     "output_type": "stream",
     "text": [
      "floating numbers with no decimal places: b  21 and c 15\n"
     ]
    }
   ],
   "source": [
    "b=20.659\n",
    "c=15.359\n",
    "print('floating numbers with no decimal places: b  {:.0f} and c {:.0f}'.format(b,c))"
   ]
  },
  {
   "cell_type": "markdown",
   "metadata": {},
   "source": [
    "14. Write a Python program to display a number with a comma separator."
   ]
  },
  {
   "cell_type": "code",
   "execution_count": 95,
   "metadata": {},
   "outputs": [
    {
     "name": "stdout",
     "output_type": "stream",
     "text": [
      "Numbers with comma separator a 54,200,150 and b 5,600,098,500\n"
     ]
    }
   ],
   "source": [
    "a=54200150\n",
    "b=5600098500\n",
    "print('Numbers with comma separator a {:,} and b {:,}'.format(a,b))"
   ]
  },
  {
   "cell_type": "markdown",
   "metadata": {},
   "source": [
    "15. Write a Python program to strip a set of characters from a string."
   ]
  },
  {
   "cell_type": "code",
   "execution_count": 110,
   "metadata": {},
   "outputs": [
    {
     "name": "stdout",
     "output_type": "stream",
     "text": [
      "://www.w3resource.com/python-exercises\n"
     ]
    }
   ],
   "source": [
    "print(str.lstrip(' https://www.w3resource.com/python-exercises',' httpscomes '))"
   ]
  },
  {
   "cell_type": "markdown",
   "metadata": {},
   "source": [
    "16. Write a Python program to swap comma and dot in a string.\n",
    "Sample string: ”32.054,23”\n",
    "Expected Output: ”32,054.23”"
   ]
  },
  {
   "cell_type": "code",
   "execution_count": 5,
   "metadata": {},
   "outputs": [
    {
     "name": "stdout",
     "output_type": "stream",
     "text": [
      "32,054.23\n"
     ]
    }
   ],
   "source": [
    "#  Python maketrans() and translate() functions\n",
    "\n",
    "amount = 32.054,23'\n",
    "amount = amount.translate(maketrans(',.', '.,'))\n",
    "print(amount)"
   ]
  },
  {
   "cell_type": "markdown",
   "metadata": {},
   "source": [
    "17. Write a Python program to find the second most repeated word in a given string."
   ]
  },
  {
   "cell_type": "code",
   "execution_count": 6,
   "metadata": {},
   "outputs": [
    {
     "name": "stdout",
     "output_type": "stream",
     "text": [
      "['mahmoud', 'ahmad', 'ali', 'ali', 'ali', 'ali', 'mahmoud']\n"
     ]
    }
   ],
   "source": [
    "st=' mahmoud ahmad ali ali ali ali mahmoud '\n",
    "st1=st.split()\n",
    "print(st1)\n",
    "for \n",
    "    \n",
    "    \n"
   ]
  },
  {
   "cell_type": "code",
   "execution_count": null,
   "metadata": {},
   "outputs": [],
   "source": []
  }
 ],
 "metadata": {
  "kernelspec": {
   "display_name": "Python 3",
   "language": "python",
   "name": "python3"
  },
  "language_info": {
   "codemirror_mode": {
    "name": "ipython",
    "version": 3
   },
   "file_extension": ".py",
   "mimetype": "text/x-python",
   "name": "python",
   "nbconvert_exporter": "python",
   "pygments_lexer": "ipython3",
   "version": "3.7.3"
  }
 },
 "nbformat": 4,
 "nbformat_minor": 2
}
