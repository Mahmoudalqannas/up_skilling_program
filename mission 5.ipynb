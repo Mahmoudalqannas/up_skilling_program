{
 "cells": [
  {
   "cell_type": "markdown",
   "metadata": {},
   "source": [
    "1. Write a Python function to check whether a number is perfect or not.\n",
    "According to Wikipedia : In number theory, a perfect number is a positive integer that is equal\n",
    "to the sum of its proper positive divisors, that is, the sum of its positive divisors excluding the\n",
    "number itself (also known as its aliquot sum). Equivalently, a perfect number is a number that\n",
    "is half the sum of all of its positive divisors (including itself).\n",
    "Example : 6, because 1, 2, and 3 are its proper positive divisors, and 1 + 2 + 3 = 6."
   ]
  },
  {
   "cell_type": "code",
   "execution_count": null,
   "metadata": {},
   "outputs": [],
   "source": [
    "def perfect(num):\n",
    "    sum1=0\n",
    "    for i  in range(1,num):\n",
    "        if num %i ==0:\n",
    "            sum1+=i\n",
    "    if sum1==num:\n",
    "        return True\n",
    "    else:\n",
    "        return False\n",
    "\n",
    "print(perfect(6))"
   ]
  },
  {
   "cell_type": "markdown",
   "metadata": {},
   "source": [
    "2. Write a Python function that accepts a hyphen-separated sequence of words as input and prints\n",
    "the words in a hyphen-separated sequence after sorting them alphabetically.\n",
    "Sample Items : green-red-yellow-black-white\n",
    "Expected Result : black-green-red-white-yellow"
   ]
  },
  {
   "cell_type": "code",
   "execution_count": null,
   "metadata": {},
   "outputs": [],
   "source": [
    "st=input('Enter a string separate by - :')\n",
    "\n",
    "def sep_fun(str1):\n",
    "    x=str1.split('-')\n",
    "    x=sorted(x)\n",
    "    return x\n",
    "print(sep_fun(st))\n",
    "\n"
   ]
  },
  {
   "cell_type": "markdown",
   "metadata": {},
   "source": [
    "3. Write a Python function to check whether a string is a pangram or not.\n",
    "Note : Pangrams are words or sentences containing every letter of the alphabet at least once.\n",
    "For example : ”The quick brown fox jumps over the lazy dog”"
   ]
  },
  {
   "cell_type": "code",
   "execution_count": null,
   "metadata": {},
   "outputs": [],
   "source": [
    "li=[]\n",
    "x='a'\n",
    "for i in range(0,26):\n",
    "    li.append(x)\n",
    "    x=chr(ord(x)+1)\n",
    "\n",
    "def pangram(str1):\n",
    "    global li\n",
    "    t=0\n",
    "    for i in range(len(li)):\n",
    "        if li[i] not in str1:\n",
    "            t+=1\n",
    "            \n",
    "    if t==0:\n",
    "        print('The string is pangram')\n",
    "st='The quick brown fox jumps over the lazy dog'  \n",
    "pangram(st)\n"
   ]
  },
  {
   "cell_type": "markdown",
   "metadata": {},
   "source": [
    "4. Write a Python function that accepts a string and calculate the number of upper case letters\n",
    "and lower case letters.\n",
    "Sample String : ’The quick Brow Fox’\n",
    "Expected Output :\n",
    "No. of Upper case characters : 3\n",
    "No. of Lower case Characters : 12"
   ]
  },
  {
   "cell_type": "code",
   "execution_count": null,
   "metadata": {},
   "outputs": [],
   "source": [
    "def calstring(st):\n",
    "    u=0\n",
    "    l=0\n",
    "    for i in st:\n",
    "        if i.isupper():\n",
    "            u+=1\n",
    "        elif i.islower():\n",
    "            l+=1\n",
    "        else:\n",
    "            pass\n",
    "    print('No. of Upper case characters :', u)\n",
    "    print('No. of Lower case Characters : ', l)\n",
    "st1='The quick Brow Fox'\n",
    "\n",
    "calstring(st1)"
   ]
  },
  {
   "cell_type": "markdown",
   "metadata": {},
   "source": [
    "5. Write a Python function to get the sum of a non-negative integer. (using recursion); Test Data:\n",
    "sumDigits(345) = 12\n",
    "sumDigits(45) = 9"
   ]
  },
  {
   "cell_type": "code",
   "execution_count": null,
   "metadata": {},
   "outputs": [],
   "source": [
    "def summation(num):\n",
    "    if num == 0:\n",
    "        return 0\n",
    "    else:\n",
    "        return num%10 +summation(num//10)\n",
    "print(summation(345))\n",
    "print(summation(659))"
   ]
  },
  {
   "cell_type": "markdown",
   "metadata": {},
   "source": [
    "6. Write a Python function to find the greatest common divisor (gcd) of two integers. (using\n",
    "recursion)"
   ]
  },
  {
   "cell_type": "code",
   "execution_count": null,
   "metadata": {},
   "outputs": [],
   "source": [
    "def gcd(num1,num2):\n",
    "    if num2==0:\n",
    "        return num1\n",
    "    else:\n",
    "        return gcd(num2,num1%num2)\n",
    "print('The gcd is ' )\n",
    "print(gcd(80,5))"
   ]
  },
  {
   "cell_type": "markdown",
   "metadata": {},
   "source": [
    "7. Write a Python function to find the (LCM) of two integers."
   ]
  },
  {
   "cell_type": "code",
   "execution_count": null,
   "metadata": {},
   "outputs": [],
   "source": [
    "x=30\n",
    "y=12\n",
    "def lcm(x,y):\n",
    "    \n",
    "\n",
    "    if x>y:\n",
    "        greater=x\n",
    "    elif y<=x:\n",
    "        greater=y\n",
    "\n",
    "    while(True):\n",
    "        \n",
    "        if((greater % x == 0) and (greater % y ==0)):\n",
    "            lcm =greater\n",
    "            break\n",
    "        greater+=1\n",
    "    return lcm    \n",
    "\n",
    "print('LCM between x and y is: ',lcm(x,y))"
   ]
  },
  {
   "cell_type": "markdown",
   "metadata": {},
   "source": [
    "8. Write a Python function that prints out the first n rows of Pascal’s triangle. (using recursion)"
   ]
  },
  {
   "cell_type": "code",
   "execution_count": null,
   "metadata": {},
   "outputs": [],
   "source": []
  },
  {
   "cell_type": "markdown",
   "metadata": {},
   "source": [
    "9. Write a Python program to get the current value of the recursion limit."
   ]
  },
  {
   "cell_type": "code",
   "execution_count": null,
   "metadata": {},
   "outputs": [],
   "source": [
    "import sys\n",
    "print(sys.getrecursionlimit())\n",
    "print()"
   ]
  },
  {
   "cell_type": "markdown",
   "metadata": {},
   "source": [
    "10. Write a Python program to get numbers divisible by fifteen from a list using an anonymous\n",
    "function."
   ]
  },
  {
   "cell_type": "code",
   "execution_count": null,
   "metadata": {},
   "outputs": [],
   "source": [
    "li=[15,150,300,250,60,87,549,98,59,56,62]\n",
    "li1=list(filter(lambda x  : (x%15==0),li))\n",
    "print(li1)"
   ]
  },
  {
   "cell_type": "markdown",
   "metadata": {},
   "source": [
    "11. Write a Python function to filter the positive numbers from a list."
   ]
  },
  {
   "cell_type": "code",
   "execution_count": null,
   "metadata": {},
   "outputs": [],
   "source": [
    "li=[15,150,300,250,60,-87,-549,98,-59,-56,-62]\n",
    "li1=list(filter(lambda i :(i>0),li))\n",
    "print(li1)"
   ]
  },
  {
   "cell_type": "markdown",
   "metadata": {},
   "source": [
    "12. Write a Python function to compute the product of a list of integers."
   ]
  },
  {
   "cell_type": "code",
   "execution_count": null,
   "metadata": {},
   "outputs": [],
   "source": [
    "\n",
    "def product(list1):\n",
    "    v=1\n",
    "    for i in list1:\n",
    "        v*=i\n",
    "    return v\n",
    "li=[15,150,300,250,60,]\n",
    "print(product(li))\n",
    "        "
   ]
  },
  {
   "cell_type": "markdown",
   "metadata": {},
   "source": [
    "13. A palindromic number reads the same both ways. The largest palindrome made from the\n",
    "product of two 2-digit numbers is 9009 = 91 × 99.\n",
    "Write a Python function to find the largest palindrome made from the product of two 3-digit\n",
    "numbers."
   ]
  },
  {
   "cell_type": "code",
   "execution_count": null,
   "metadata": {},
   "outputs": [],
   "source": []
  },
  {
   "cell_type": "markdown",
   "metadata": {},
   "source": [
    "14. The number, 197, is called a circular prime because all rotations of the digits: 197, 971, and\n",
    "719, are themselves prime.\n",
    "There are thirteen such primes below 100: 2, 3, 5, 7, 11, 13, 17, 31, 37, 71, 73, 79, and 97.\n",
    "Write a Python function to find How many circular primes are there below one million? and\n",
    "print them."
   ]
  },
  {
   "cell_type": "code",
   "execution_count": null,
   "metadata": {},
   "outputs": [],
   "source": []
  },
  {
   "cell_type": "markdown",
   "metadata": {},
   "source": [
    "15. Let d(n) be defined as the sum of proper divisors of n (numbers less than n which divide evenly\n",
    "into n).\n",
    "If d(a) = b and d(b) = a, where a ! = b, then a and b are an amicable pair and each of a and\n",
    "b are called amicable numbers.\n",
    "For example, the proper divisors of 220 are 1, 2, 4, 5, 10, 11, 20, 22, 44, 55 and 110; therefore\n",
    "d(220) = 284. The proper divisors of 284 are 1, 2, 4, 71 and 142; so d(284) = 220.\n",
    "Write a Python function to evaluate the sum of all the amicable numbers under 10000."
   ]
  },
  {
   "cell_type": "code",
   "execution_count": null,
   "metadata": {},
   "outputs": [],
   "source": []
  },
  {
   "cell_type": "markdown",
   "metadata": {},
   "source": [
    "16. In England the currency is made up of pound, £, and pence, p, and there are eight coins in\n",
    "general circulation:\n",
    "1p, 2p, 5p, 10p, 20p, 50p, £1 (100p) and £2 (200p).\n",
    "\n",
    "It is possible to make £2 in the following way:\n",
    "1×£1 + 1×50p + 2×20p + 1×5p + 1×2p + 3×1p\n",
    "Write a Python function to find How many different ways can £2 be made using any number\n",
    "of coins?"
   ]
  },
  {
   "cell_type": "code",
   "execution_count": null,
   "metadata": {},
   "outputs": [],
   "source": []
  },
  {
   "cell_type": "markdown",
   "metadata": {},
   "source": [
    "17. Given 3 poles (A, B, C) with N disks stacked on A, move all the disks from A to C such that a\n",
    "disk with a larger radius is always below a disk with a smaller one. Only 1 disk can be moved\n",
    "at a time."
   ]
  },
  {
   "cell_type": "code",
   "execution_count": null,
   "metadata": {},
   "outputs": [],
   "source": []
  }
 ],
 "metadata": {
  "kernelspec": {
   "display_name": "Python 3",
   "language": "python",
   "name": "python3"
  },
  "language_info": {
   "codemirror_mode": {
    "name": "ipython",
    "version": 3
   },
   "file_extension": ".py",
   "mimetype": "text/x-python",
   "name": "python",
   "nbconvert_exporter": "python",
   "pygments_lexer": "ipython3",
   "version": "3.7.3"
  }
 },
 "nbformat": 4,
 "nbformat_minor": 2
}
