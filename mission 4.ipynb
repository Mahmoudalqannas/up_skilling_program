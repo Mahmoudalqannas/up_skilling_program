{
 "cells": [
  {
   "cell_type": "markdown",
   "metadata": {},
   "source": [
    "1. Write a Python program to find the second largest number in a list."
   ]
  },
  {
   "cell_type": "code",
   "execution_count": null,
   "metadata": {},
   "outputs": [],
   "source": [
    "li=[50,30,45,21]\n",
    "m1=max(li[0],li[1])\n",
    "sm=min(li[0],li[1])\n",
    "for i in range(2,len(li)):\n",
    "    if li[i]>m1:\n",
    "        sum=m1\n",
    "        m1=li[i]\n",
    "    else:\n",
    "        if li[i]>sm:\n",
    "            sm=li[i]\n",
    "print(sm)\n",
    "            \n",
    "            "
   ]
  },
  {
   "cell_type": "markdown",
   "metadata": {},
   "source": [
    "2. Write a Python program to find the index of the second largest number in a list."
   ]
  },
  {
   "cell_type": "code",
   "execution_count": null,
   "metadata": {},
   "outputs": [],
   "source": [
    "li=[50,30,45,21]\n",
    "m1=max(li[0],li[1])\n",
    "sm=min(li[0],li[1])\n",
    "y=0\n",
    "for i in range(2,len(li)):\n",
    "    if li[i]>m1:\n",
    "        sum=m1\n",
    "        m1=li[i]\n",
    "    else:\n",
    "        if li[i]>sm:\n",
    "            sm=li[i]\n",
    "            t=li.index(sm)\n",
    "print(t)"
   ]
  },
  {
   "cell_type": "markdown",
   "metadata": {},
   "source": [
    "3. Write a Python program to check a container is empty or not."
   ]
  },
  {
   "cell_type": "code",
   "execution_count": null,
   "metadata": {},
   "outputs": [],
   "source": [
    "t=()\n",
    "if t :\n",
    "    print('the cont is  non empty')\n",
    "else:\n",
    "     print('the cont is   empty !!!!!!!!!!!')\n",
    "    "
   ]
  },
  {
   "cell_type": "markdown",
   "metadata": {},
   "source": [
    "4. Write a Python program using Sieve of Eratosthenes method for computing primes upto a\n",
    "specified number.\n",
    "Note: In mathematics, the sieve of Eratosthenes,one of a number of prime number sieves, is a\n",
    "simple, ancient algorithm for finding all prime numbers up to any given limit."
   ]
  },
  {
   "cell_type": "code",
   "execution_count": null,
   "metadata": {},
   "outputs": [],
   "source": [
    "while True:\n",
    "    try:\n",
    "        x=int(input('Enter limt number :'))\n",
    "        if x or x >0:\n",
    "            break\n",
    "    except:\n",
    "        print('Enter a valid number')\n",
    "        \n",
    "li=[i for i in range(2,x+1)]\n",
    "#print(li)\n",
    "lis=[2,3,5,7]\n",
    "for t in lis:\n",
    "    for a in li:\n",
    "        if a%t == 0 and a>t:\n",
    "            li.remove(a)\n",
    "print(li)\n"
   ]
  },
  {
   "cell_type": "markdown",
   "metadata": {},
   "source": [
    "5. Given a list slice it into a 3 equal chunks and print each list."
   ]
  },
  {
   "cell_type": "code",
   "execution_count": null,
   "metadata": {},
   "outputs": [],
   "source": []
  },
  {
   "cell_type": "markdown",
   "metadata": {},
   "source": [
    "6. Write a Python program to sort a list in descending order."
   ]
  },
  {
   "cell_type": "code",
   "execution_count": null,
   "metadata": {},
   "outputs": [],
   "source": [
    "li=[2, 300, 5, 7, 11, 20, 17, 19, 23, 29, 31, 37, 41, 43, 47]\n",
    "\n",
    "li.sort(reverse=True)\n",
    "print(li)"
   ]
  },
  {
   "cell_type": "markdown",
   "metadata": {},
   "source": [
    "7. Write a Python program to reverse a list."
   ]
  },
  {
   "cell_type": "code",
   "execution_count": null,
   "metadata": {},
   "outputs": [],
   "source": [
    "li=[2, 300, 5, 7, 11, 20, 17, 19, 23, 29, 31, 37, 41, 43, 47]\n",
    "li.reverse()\n",
    "print(li)"
   ]
  },
  {
   "cell_type": "markdown",
   "metadata": {},
   "source": [
    "8. Write a Python program to flatten a 2-D list."
   ]
  },
  {
   "cell_type": "code",
   "execution_count": null,
   "metadata": {},
   "outputs": [],
   "source": [
    "b=[[50,64,22,5],[5,69,87,4,32]]\n",
    "x=[]\n",
    "for i in b:\n",
    "    x.extend(i)\n",
    "print(x)"
   ]
  },
  {
   "cell_type": "markdown",
   "metadata": {},
   "source": [
    "9. Given an input list removes the element at index 4 and add it to the 2nd position and also, at\n",
    "the end of the list"
   ]
  },
  {
   "cell_type": "code",
   "execution_count": null,
   "metadata": {},
   "outputs": [],
   "source": [
    "y=[50, 64, 22, 6, 5, 69, 87, 4, 32]\n",
    "v=y.pop(4)\n",
    "y.insert(2,v)\n",
    "y.append(v)\n",
    "print(y)"
   ]
  },
  {
   "cell_type": "markdown",
   "metadata": {},
   "source": [
    "10. Given a two list of equal size create a set such that it shows the element from both lists in the\n",
    "pair."
   ]
  },
  {
   "cell_type": "code",
   "execution_count": null,
   "metadata": {},
   "outputs": [],
   "source": [
    "y=[50, 64, 22, 6, 5, 69, 19, 4, 32]\n",
    "li=[2, 22, 5, 50, 11, 20, 17, 19, 50]\n",
    "l1=[(a,b) for a in y for b in li]\n",
    "s1=set(l1)\n",
    "print(s1)"
   ]
  },
  {
   "cell_type": "markdown",
   "metadata": {},
   "source": [
    "11. Iterate a given list and Check if a given element already exists in a dictionary as a key’s value\n",
    "if not delete it from the list."
   ]
  },
  {
   "cell_type": "code",
   "execution_count": null,
   "metadata": {},
   "outputs": [],
   "source": [
    "li=['sdfsd','mily' ,'lossy']\n",
    "dict1={'cat':'lossy','dog':'surees',  'caw': 'mily'}\n",
    "\n",
    "b=dict1.values()\n",
    "for i in li:\n",
    "    if i not in b:\n",
    "        li.remove(i)\n",
    "print(li)\n",
    "    "
   ]
  },
  {
   "cell_type": "markdown",
   "metadata": {},
   "source": [
    "12. Given a dictionary get all values from the dictionary and add it in a list but don’t add duplicates."
   ]
  },
  {
   "cell_type": "code",
   "execution_count": null,
   "metadata": {},
   "outputs": [],
   "source": [
    "dict1={'cat':'lossy','dog':'surees',  'caw': 'mily', 'hourse':'mily'}\n",
    "b=list(set(dict1.values()))\n",
    "print(b)"
   ]
  },
  {
   "cell_type": "markdown",
   "metadata": {},
   "source": [
    "13. Write a Python program which accepts a sequence of comma-separated numbers from user and\n",
    "generate a list and a tuple with those numbers.\n",
    "Sample data : 3, 5, 7, 23\n",
    "Output :\n",
    "List : [’3’, ’ 5’, ’ 7’, ’ 23’]\n",
    "Tuple : (’3’, ’ 5’, ’ 7’, ’ 23’)"
   ]
  },
  {
   "cell_type": "code",
   "execution_count": null,
   "metadata": {},
   "outputs": [],
   "source": [
    "st1=input('Enter numbers separated by comma')\n",
    "s=st1.split(',')\n",
    "li=list(s)\n",
    "tu=tuple(s)\n",
    "print(li)\n",
    "print(tu)"
   ]
  },
  {
   "cell_type": "markdown",
   "metadata": {},
   "source": [
    "14. Write a Python program to count the number 4 in a given list."
   ]
  },
  {
   "cell_type": "code",
   "execution_count": null,
   "metadata": {},
   "outputs": [],
   "source": [
    "li=[4,59,63,2,4,6,18,4,7,4,4]\n",
    "s=li.count(4)\n",
    "print(s)"
   ]
  },
  {
   "cell_type": "markdown",
   "metadata": {},
   "source": [
    "15. Write a Python program to concatenate all elements in a list into a string and return it."
   ]
  },
  {
   "cell_type": "code",
   "execution_count": null,
   "metadata": {},
   "outputs": [],
   "source": [
    "li=[4,59,63,2,4,6,18,4,7,4,4]\n",
    "s=''\n",
    "s1=str(li)\n",
    "for i in li:\n",
    "    s+=str(i)\n",
    "print(s)\n",
    "    "
   ]
  },
  {
   "cell_type": "markdown",
   "metadata": {},
   "source": [
    "16. Write a Python program to print all even numbers from a given numbers list in the same order\n",
    "and stop the printing if any numbers that come after 237 in the sequence.\n",
    "Sample numbers list :\n",
    "numbers = [386, 462, 47, 418, 907, 344, 236, 375, 823, 566, 597, 978, 328, 615, 953, 345, 399,\n",
    "162, 758, 219, 918, 237, 412, 566, 826, 248, 866, 950, 626, 949, 687, 217, 815, 67, 104, 58, 512,\n",
    "24, 892, 894, 767, 553, 81, 379, 843, 831, 445, 742, 717, 958, 743, 527]"
   ]
  },
  {
   "cell_type": "code",
   "execution_count": null,
   "metadata": {},
   "outputs": [],
   "source": [
    "numbers = [386, 462, 47, 418, 907, 344, 236, 375, 823, 566,\n",
    "            597, 978, 328, 615, 953, 345, 399, 162, 758, 219,\n",
    "            918, 237, 412, 566, 826, 248, 866, 950, 626, 949,\n",
    "            687, 217, 815, 67, 104, 58, 512, 24, 892, 894, 767,\n",
    "            553, 81, 379, 843, 831, 445, 742, 717, 958, 743, 527]\n",
    "for i in numbers:\n",
    "    if i%2==0:\n",
    "        print(i, end = ' ')\n",
    "    if i == 237:\n",
    "        break"
   ]
  },
  {
   "cell_type": "markdown",
   "metadata": {},
   "source": [
    "17. Write a Python program to print the length of the series and the series from the given 3rd\n",
    "term, 3rd last term and the sum of a series."
   ]
  },
  {
   "cell_type": "code",
   "execution_count": null,
   "metadata": {},
   "outputs": [],
   "source": [
    "numbers = [386, 462, 47, 418, 907, 344, 236, 375, 823, 566,\n",
    "            597, 978, 328, 615, 953, 345, 399, 162, 758, 219,\n",
    "            918, 237, 412, 566, 826, 248, 866, 950, 626, 949,\n",
    "            687, 217, 815, 67, 104, 58, 512, 24, 892, 894, 767,\n",
    "            553, 81, 379, 843, 831, 445, 742, 717, 958, 743, 527]\n",
    "print(len(numbers))\n",
    "sum1=0\n",
    "for i in numbers:\n",
    "    sum1=sum1+i\n",
    "series=[numbers[3],numbers[-3],sum1]\n",
    "print(series)"
   ]
  },
  {
   "cell_type": "markdown",
   "metadata": {},
   "source": [
    "18. Write a Python program to get a list, sorted in increasing order by the last element in each\n",
    "tuple from a given list of non-empty tuples.\n",
    "Sample List : [(2, 5), (1, 2), (4, 4), (2, 3), (2, 1)]\n",
    "Expected Result : [(2, 1), (1, 2), (2, 3), (4, 4), (2, 5)]"
   ]
  },
  {
   "cell_type": "code",
   "execution_count": null,
   "metadata": {},
   "outputs": [],
   "source": [
    "import operator\n",
    "li=[(2, 5), (1, 2), (4, 4), (2, 3), (2, 1)]\n",
    "li.sort(key = operator.itemgetter(1))\n",
    "print(li)"
   ]
  },
  {
   "cell_type": "markdown",
   "metadata": {},
   "source": [
    "19. Write a Python program to create a list by concatenating a given list which range goes from 1\n",
    "to n.\n",
    "Sample list : [’p’, ’q’] „„ n = 5\n",
    "Sample Output : [’p1’, ’q1’, ’p2’, ’q2’, ’p3’, ’q3’, ’p4’, ’q4’, ’p5’, ’q5’]"
   ]
  },
  {
   "cell_type": "code",
   "execution_count": null,
   "metadata": {},
   "outputs": [],
   "source": [
    "li =['p', 'q']\n",
    "n=5\n",
    "li1=[]\n",
    "for i in range(1,n+1):\n",
    "    for j in li:\n",
    "        li1+=['{}{}'.format(j,i)]\n",
    "print(li1)\n",
    "        \n",
    "    "
   ]
  },
  {
   "cell_type": "markdown",
   "metadata": {},
   "source": [
    "20. Write a Python program to find the biggest row sum of a matrix."
   ]
  },
  {
   "cell_type": "code",
   "execution_count": null,
   "metadata": {},
   "outputs": [],
   "source": [
    "li=[[50,30,59],[4,78,45],[4,98,75]]\n",
    "sum1=0\n",
    "t=[]\n",
    "for i in li:\n",
    "    t.append(sum(i))\n",
    "v=t.index(max(t))\n",
    "print(max(t),li[v])\n",
    "   "
   ]
  },
  {
   "cell_type": "markdown",
   "metadata": {},
   "source": [
    "21. Write a Python program to find the biggest column Multiplication of a matrix."
   ]
  },
  {
   "cell_type": "code",
   "execution_count": null,
   "metadata": {},
   "outputs": [],
   "source": [
    "li=list()\n",
    "li=[[50,30,59],\n",
    "    [4,78,45],\n",
    "    [4,98,75]]\n",
    "mul=1\n",
    "li1=list()\n",
    "for i in range(len(li)):\n",
    "    for j in range(len(li)):\n",
    "        mul*=li[j][i]\n",
    "    li1.append(mul)\n",
    "    mul=1\n",
    "print(li1)\n",
    "v=int(li1.index(max(li1)))    \n",
    "print(max(li1))\n",
    "for s in range(len(li[v])):\n",
    "    print( li[s][v])\n",
    "\n",
    "\n",
    "        \n"
   ]
  },
  {
   "cell_type": "markdown",
   "metadata": {},
   "source": [
    "22. Write a guessing game where the user must guess a secret number. After every guess the\n",
    "program tells the user whether their number was too large or too small. At the end the number\n",
    "of tries needed should be printed. It counts only as one try if they input the same number\n",
    "multiple times consecutively."
   ]
  },
  {
   "cell_type": "code",
   "execution_count": null,
   "metadata": {},
   "outputs": [],
   "source": []
  },
  {
   "cell_type": "markdown",
   "metadata": {},
   "source": [
    "23. Write a python program to transpose a matrix."
   ]
  },
  {
   "cell_type": "code",
   "execution_count": null,
   "metadata": {},
   "outputs": [],
   "source": [
    "li=[[50,30,59],[4,78,45],[4,98,75]]\n",
    "lis1=[[li[j][i] for j in range(len(li))] for i in range(len(li[0]))]\n",
    "                              \n",
    "for l in lis1:\n",
    "    print(l)\n"
   ]
  },
  {
   "cell_type": "markdown",
   "metadata": {},
   "source": [
    "24. Write a python program to perform a 2 matrix multiplication (following the algebra rules of\n",
    "matrix multiplication)."
   ]
  },
  {
   "cell_type": "code",
   "execution_count": null,
   "metadata": {},
   "outputs": [],
   "source": [
    "mat1=[[5,8],[7,9]]\n",
    "mat2=[[7,8],[3,3]]\n",
    "mul1=[[0,0],[0,0]]\n",
    "for i in range(len(mat1)):\n",
    "    for j in range(len(mat2[0])):\n",
    "        for n in range(len(mat2)):\n",
    "            mul1[i][j]+= mat1[i][n]*mat2[n][j]\n",
    "for s in mul1:\n",
    "    print(s)"
   ]
  },
  {
   "cell_type": "markdown",
   "metadata": {},
   "source": [
    "25. Write a python program to inverse a matrix."
   ]
  },
  {
   "cell_type": "code",
   "execution_count": null,
   "metadata": {},
   "outputs": [],
   "source": []
  },
  {
   "cell_type": "markdown",
   "metadata": {},
   "source": [
    "26. Write a Python program to print all permutations of a sequence of numbers."
   ]
  },
  {
   "cell_type": "code",
   "execution_count": null,
   "metadata": {},
   "outputs": [],
   "source": [
    "from itertools import permutations \n",
    "p= permutations([2,4,7])\n",
    "li=list(p)\n",
    "for i in li:\n",
    "    print(i)"
   ]
  },
  {
   "cell_type": "markdown",
   "metadata": {},
   "source": [
    "27. Write a Python script to sort (ascending and descending) a dictionary by its values."
   ]
  },
  {
   "cell_type": "code",
   "execution_count": null,
   "metadata": {},
   "outputs": [],
   "source": [
    "import operator\n",
    "dict1={'cat':'lossy','dog':'surees',  'caw': 'mily', 'hourse':'mily'}\n",
    "s=sorted(dict1.items(), key=operator.itemgetter(0))\n",
    "print(s)\n",
    "s1=sorted(dict1.items(), key=operator.itemgetter(0), reverse=True)\n",
    "print(s1)"
   ]
  },
  {
   "cell_type": "markdown",
   "metadata": {},
   "source": [
    "28. Write a Python program to remove duplicates from Dictionary values."
   ]
  },
  {
   "cell_type": "code",
   "execution_count": null,
   "metadata": {},
   "outputs": [],
   "source": [
    "dict1={'cat':'lossy','dog':'surees',  'caw': 'mily', 'hourse':'mily'}\n",
    "dict2={}\n",
    "for key,value in dict1.items():\n",
    "    if value not in dict2.values():\n",
    "        dict2[key]=value\n",
    "print(dict2)"
   ]
  },
  {
   "cell_type": "markdown",
   "metadata": {},
   "source": [
    "29. Write a Python program to print all unique values in a dictionary with their keys.(take help of\n",
    "string formatting."
   ]
  },
  {
   "cell_type": "code",
   "execution_count": null,
   "metadata": {},
   "outputs": [],
   "source": [
    "dict1={'V1':'S0015',\n",
    "       'V2': 'S0102',\n",
    "       'V3I': 'S001', \n",
    "       'VI': 'S004', \n",
    "       'VII':'S002',\n",
    "       'V':'S002',\n",
    "       'VIII':'S007'}\n",
    "\n",
    "value = set( x for i in dict1 for x in dict1.values())\n",
    "print(value)\n",
    "\n",
    "     \n",
    "        \n",
    "\n"
   ]
  },
  {
   "cell_type": "markdown",
   "metadata": {},
   "source": [
    "30. Write a Python program to find the keys of the highest 3 values in a dictionary."
   ]
  },
  {
   "cell_type": "code",
   "execution_count": null,
   "metadata": {},
   "outputs": [],
   "source": [
    "from collections import Counter \n",
    "dict1={'V4':'S0915',\n",
    "       'V3': 'S0102',\n",
    "       'V3I': 'S001', \n",
    "       'V2': 'S004', \n",
    "       'VII':'S002',\n",
    "       'V1':'S002',\n",
    "       'VIII':'S007'}\n",
    "k = Counter(dict1) \n",
    "\n",
    "high = k.most_common(3) \n",
    "x=len(high)\n",
    "for i in high:\n",
    "    print(i)"
   ]
  },
  {
   "cell_type": "markdown",
   "metadata": {},
   "source": [
    "31. Given a list iterate it and count the occurrence of each element and create a dictionary to show\n",
    "the count of each element."
   ]
  },
  {
   "cell_type": "code",
   "execution_count": null,
   "metadata": {},
   "outputs": [],
   "source": [
    "li=['mahmoud',50,50,'ali','ali',50]\n",
    "dict1={}\n",
    "for i in li:\n",
    "    dict1[i]=li.count(i)\n",
    "print(dict1)"
   ]
  },
  {
   "cell_type": "markdown",
   "metadata": {},
   "source": [
    "32. Given two sets find the intersection and remove those elements from the first set."
   ]
  },
  {
   "cell_type": "code",
   "execution_count": null,
   "metadata": {},
   "outputs": [],
   "source": [
    "set1={50,60,70,84,88,75}\n",
    "set2={50,66,88,75}\n",
    "li=set1.intersection(set2)\n",
    "for i in li:\n",
    "    if i in set1:\n",
    "        set1.discard(i)\n",
    "print(set1)"
   ]
  },
  {
   "cell_type": "markdown",
   "metadata": {},
   "source": [
    "33. Given two sets, Checks if One Set is Subset or superset of Another Set. if it is a subset, delete\n",
    "all elements from that set."
   ]
  },
  {
   "cell_type": "code",
   "execution_count": null,
   "metadata": {},
   "outputs": [],
   "source": [
    "set1={50,66,70,84,88,75}\n",
    "set2={50,66,88,75}\n",
    "if set1.issubset(set2):\n",
    "    print('set1 is subset from set2')\n",
    "    set1.clear()\n",
    "if set1.issuperset(set2):\n",
    "    print('set1 is superset of set2')"
   ]
  },
  {
   "cell_type": "markdown",
   "metadata": {},
   "source": [
    "34. Write a Python program to print out a set containing all the item from list_1 which are not\n",
    "present in list_2."
   ]
  },
  {
   "cell_type": "code",
   "execution_count": null,
   "metadata": {},
   "outputs": [],
   "source": [
    "lis1=[10,20,30,40,50,60,70,80,90,'kkkk',100]\n",
    "lis2=[20,40,60,80]\n",
    "set1=set()\n",
    "for i in lis1:\n",
    "    if i not in lis2:\n",
    "        set1.add(i)\n",
    "print(set1)"
   ]
  },
  {
   "cell_type": "markdown",
   "metadata": {},
   "source": [
    "35. Write a Python program to calculate the sum over any given container."
   ]
  },
  {
   "cell_type": "code",
   "execution_count": null,
   "metadata": {},
   "outputs": [],
   "source": [
    "lis1=[10,20,30,40,50,60,70,80,90,100]\n",
    "set1={50,66,70,84,88,75}\n",
    "print(sum(lis1))\n",
    "print(sum(set1))"
   ]
  },
  {
   "cell_type": "markdown",
   "metadata": {},
   "source": [
    "36. Write a Python program to remove the first item from a specified list."
   ]
  },
  {
   "cell_type": "code",
   "execution_count": null,
   "metadata": {},
   "outputs": [],
   "source": [
    "lis1=[10,20,30,40,50,60,70,80,90,100]\n",
    "print(lis1.pop(0))"
   ]
  },
  {
   "cell_type": "markdown",
   "metadata": {},
   "source": [
    "37. Write a Python program to iterate an extract all key-value pair of a dictionary in variables and\n",
    "print them."
   ]
  },
  {
   "cell_type": "code",
   "execution_count": null,
   "metadata": {},
   "outputs": [],
   "source": []
  },
  {
   "cell_type": "markdown",
   "metadata": {},
   "source": [
    "38. Write a Python function to find a distinct pair of numbers whose product is odd from a sequence\n",
    "of integer values."
   ]
  },
  {
   "cell_type": "code",
   "execution_count": null,
   "metadata": {},
   "outputs": [],
   "source": [
    "mul=0\n",
    "x=list()\n",
    "def prouctodd(lis):\n",
    "    global mul,x\n",
    "    for i  in lis:\n",
    "        for j in lis:\n",
    "            if i != j:\n",
    "                mul=i*j\n",
    "                if mul%2 >0:\n",
    "                    x.append([i,j])\n",
    "        \n",
    "li=[1,2,5,6,7,8,10,15,3,4]\n",
    "prouctodd(li)        \n",
    "print(x)\n"
   ]
  },
  {
   "cell_type": "markdown",
   "metadata": {},
   "source": [
    "39. Write a Python program to iterate over a list and find unique triplets whose three elements\n",
    "gives the sum of zero."
   ]
  },
  {
   "cell_type": "code",
   "execution_count": null,
   "metadata": {},
   "outputs": [],
   "source": [
    "li = [0, -1,  -3, 1, -6,5,-2,] \n",
    "sum=0\n",
    "lis1=list()\n",
    "set1={}\n",
    "for i in range(len(li)):\n",
    "    for j in range(len(li)):\n",
    "        for k in range(len(li)):\n",
    "            if i!=j and i!=k and j!= k:\n",
    "                if (li[i] + li[j] + li[k] == 0): \n",
    "                    lis1.append([li[i], li[j], li[k]]) \n",
    "\n",
    "                    \n",
    "print(lis1)\n",
    "                \n",
    "                "
   ]
  },
  {
   "cell_type": "markdown",
   "metadata": {},
   "source": [
    "40. Write a Python program to remove and print every third number from a list of numbers until\n",
    "the list becomes empty."
   ]
  },
  {
   "cell_type": "code",
   "execution_count": null,
   "metadata": {},
   "outputs": [],
   "source": [
    "li = [0, -1,  -3, 1, -6,5,-2] \n",
    "for i in range(len(li1)+1):\n",
    "    print(li.pop(3))"
   ]
  },
  {
   "cell_type": "markdown",
   "metadata": {},
   "source": [
    "41. Write a Python program to compute the summation of the absolute difference of all distinct\n",
    "pairs in an given array (non-decreasing order).\n",
    "Sample array: [1, 2, 3]\n",
    "Then all the distinct pairs will be:\n",
    "                                                                                                                                                              1 2\n",
    "                                                                                                                                                              1 3\n",
    "        2 3\n",
    "\n",
    "\n",
    "\n"
   ]
  },
  {
   "cell_type": "code",
   "execution_count": null,
   "metadata": {},
   "outputs": [],
   "source": [
    "li = [0, -1,  -3,-2] \n",
    "set1=set()\n",
    "for i in range(len(li)):\n",
    "    for j in range(len(li)):\n",
    "        if i != j:\n",
    "            set1.add((i,j))\n",
    "print(set1)\n",
    "\n",
    "        "
   ]
  },
  {
   "cell_type": "markdown",
   "metadata": {},
   "source": [
    "42. Write a Python program to find the difference between the largest possible integer and the\n",
    "smallest possible integer which are created by maximum 8 digits from 0 to 9.\n",
    "Input an integer created by 8 numbers from 0 to 9.: 2345\n",
    "Difference between the largest and the smallest integer from the given integer: 3087"
   ]
  },
  {
   "cell_type": "code",
   "execution_count": null,
   "metadata": {},
   "outputs": [],
   "source": []
  },
  {
   "cell_type": "markdown",
   "metadata": {},
   "source": [
    "43. Write a Python program which adds up column and row of given table.\n",
    "Input cell value:\n",
    " 25 69 51 26\n",
    " 68 35 29 54\n",
    " 54 57 45 63\n",
    " 61 68 47 59\n",
    "Result:\n",
    " 25 69 51 26 171\n",
    "68 35 29 54 186\n",
    " 54 57 45 63 219\n",
    " 61 68 47 59 235\n",
    " 208 229 172 202 811"
   ]
  },
  {
   "cell_type": "code",
   "execution_count": null,
   "metadata": {},
   "outputs": [],
   "source": []
  },
  {
   "cell_type": "markdown",
   "metadata": {},
   "source": [
    "44. Write a Python program to count the number of strings where the string length is 2 or more\n",
    "and the first and last character are same from a given list of strings.\n",
    "Sample List : [’abc’, ’xyz’, ’aba’, ’1221’]\n",
    "Expected Result : 2"
   ]
  },
  {
   "cell_type": "code",
   "execution_count": null,
   "metadata": {},
   "outputs": [],
   "source": [
    "li=['abc' , 'xyz' , 'aba' , '1221'] \n",
    "num=0\n",
    "for i in li:\n",
    "    if len(i)>1 and i[0]==i[-1]:\n",
    "        num+=1\n",
    "print(num)\n",
    "        "
   ]
  },
  {
   "cell_type": "markdown",
   "metadata": {},
   "source": [
    "45. Write a Python program to clone or copy a list."
   ]
  },
  {
   "cell_type": "code",
   "execution_count": null,
   "metadata": {},
   "outputs": [],
   "source": [
    "li=['abc' , 'xyz' , 'aba' , '1221'] \n",
    "l2=li.copy()\n",
    "li.append('mahmoud')\n",
    "print(li)\n",
    "print(l2)"
   ]
  },
  {
   "cell_type": "markdown",
   "metadata": {},
   "source": [
    "46. Write a Python function that takes two lists and returns True if they have at least 3 common\n",
    "member."
   ]
  },
  {
   "cell_type": "code",
   "execution_count": null,
   "metadata": {},
   "outputs": [],
   "source": [
    "li=['abc' , 'xyz' , 'aba' , '1221'] \n",
    "li1=['kk', 'xyz' , 'aba' , , 'ff ','ddd']\n",
    "counter=0\n",
    "for i in li:\n",
    "    if i in li1:\n",
    "        counter+=1\n",
    "        \n",
    "if counter>2:\n",
    "    print('They have at least 3 common members')"
   ]
  },
  {
   "cell_type": "markdown",
   "metadata": {},
   "source": [
    "47. Write a Python program to convert a list of characters into a string."
   ]
  },
  {
   "cell_type": "code",
   "execution_count": null,
   "metadata": {},
   "outputs": [],
   "source": [
    "li1=['kk', 'xyz' , 'aba'  , 'ff','ddd']\n",
    "st=''\n",
    "for i in li1:\n",
    "    st+=i\n",
    "print(st)"
   ]
  },
  {
   "cell_type": "markdown",
   "metadata": {},
   "source": [
    "48. Write a Python program to generate a list of 15 values and print the list with the first and last\n",
    "5 elements are squared."
   ]
  },
  {
   "cell_type": "code",
   "execution_count": null,
   "metadata": {},
   "outputs": [],
   "source": [
    "li= [i for i in range(15)]\n",
    "for i in li:\n",
    "    if li[i]<5 or li[i]>10:\n",
    "        li[i]=i*i\n",
    "print(li)"
   ]
  },
  {
   "cell_type": "markdown",
   "metadata": {},
   "source": [
    "49. The sum of the squares of the first ten natural numbers is, 12 + 22 + ... + 102 = 385\n",
    "The square of the sum of the first ten natural numbers is,(1 + 2 + ... + 10)2 = 552 = 3025\n",
    "Hence the difference between the sum of the squares of the first ten natural numbers and the\n",
    "square of the sum is 3025 − 385 = 2640.\n",
    "Find the difference between the sum of the squares of the first one hundred natural numbers\n",
    "and the square of the sum."
   ]
  },
  {
   "cell_type": "code",
   "execution_count": null,
   "metadata": {},
   "outputs": [],
   "source": []
  },
  {
   "cell_type": "markdown",
   "metadata": {},
   "source": [
    "50. Write a Python program to convert list to list of dictionaries.\n",
    "Sample lists:\n",
    "[”Name”, ”Age”, ”ID”, ”Phone”], [”Yazeed”, ”21”, 1536698”, ”0798529788”]\n",
    "Expected Output:\n",
    "{’color Name’: ’Black’, ’Age: ’21’ , ‘ID’: ’1536698’, ‘Phone’: ’0798529788’}"
   ]
  },
  {
   "cell_type": "code",
   "execution_count": null,
   "metadata": {},
   "outputs": [],
   "source": []
  },
  {
   "cell_type": "markdown",
   "metadata": {},
   "source": [
    "51. Write a Python program to sort a list alphabetically in a dictionary."
   ]
  },
  {
   "cell_type": "code",
   "execution_count": null,
   "metadata": {},
   "outputs": [],
   "source": []
  },
  {
   "cell_type": "markdown",
   "metadata": {},
   "source": [
    "52. Write a Python program to get the top three items in a shop.\n",
    "Sample data: ’item1’: 45.50, ’item2’:35, ’item3’: 41.30, ’item4’:55, ’item5’: 24\n",
    "Expected Output:\n",
    "item4 55\n",
    "item1 45.5\n",
    "item3 41.3"
   ]
  },
  {
   "cell_type": "code",
   "execution_count": null,
   "metadata": {},
   "outputs": [],
   "source": []
  },
  {
   "cell_type": "markdown",
   "metadata": {},
   "source": [
    "53. Write a Python program to replace dictionary values with their sum."
   ]
  },
  {
   "cell_type": "code",
   "execution_count": null,
   "metadata": {},
   "outputs": [],
   "source": []
  }
 ],
 "metadata": {
  "kernelspec": {
   "display_name": "Python 3",
   "language": "python",
   "name": "python3"
  },
  "language_info": {
   "codemirror_mode": {
    "name": "ipython",
    "version": 3
   },
   "file_extension": ".py",
   "mimetype": "text/x-python",
   "name": "python",
   "nbconvert_exporter": "python",
   "pygments_lexer": "ipython3",
   "version": "3.7.3"
  }
 },
 "nbformat": 4,
 "nbformat_minor": 2
}
